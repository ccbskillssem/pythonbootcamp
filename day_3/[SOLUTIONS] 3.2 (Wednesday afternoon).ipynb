{
  "cells": [
    {
      "cell_type": "markdown",
      "metadata": {
        "id": "vS2tF7uXaJJM"
      },
      "source": [
        "# More about data exploration\n",
        "\n",
        "Now that we have our data imported and cleaned, we can move on to summarizing and otherwise examining our data. Again, **do not try to memorize everything, you have access to a cheat sheet!**\n",
        "\n",
        "<font color = '#ed865c' size = 4>**Make sure to press the play button to run the cell below: this will re-load the datasets and functions that we worked on during the last section.**</font>"
      ]
    },
    {
      "cell_type": "code",
      "execution_count": 1,
      "metadata": {
        "cellView": "form",
        "colab": {
          "base_uri": "https://localhost:8080/"
        },
        "id": "h4c4RG3hVMNl",
        "outputId": "bea5196d-2056-40e1-b5cf-f861b3df52a9"
      },
      "outputs": [
        {
          "name": "stdout",
          "output_type": "stream",
          "text": [
            "Cloning into 'pythonbootcamp'...\n",
            "remote: Enumerating objects: 117, done.\u001b[K\n",
            "remote: Counting objects: 100% (19/19), done.\u001b[K\n",
            "remote: Compressing objects: 100% (16/16), done.\u001b[K\n",
            "remote: Total 117 (delta 4), reused 13 (delta 3), pack-reused 98\u001b[K\n",
            "Receiving objects: 100% (117/117), 81.24 MiB | 13.79 MiB/s, done.\n",
            "Resolving deltas: 100% (32/32), done.\n",
            "Updating files: 100% (28/28), done.\n"
          ]
        }
      ],
      "source": [
        "#@title\n",
        "# we hid the contents of this cell because there's a lot going on in here\n",
        "# you can re-hide this cell by clicking on View -> Show/hide code\n",
        "\n",
        "!git clone https://github.com/ccbskillssem/pythonbootcamp.git\n",
        "import numpy as np\n",
        "\n",
        "### load and clean datasets ###\n",
        "animals2 = np.genfromtxt('/content/pythonbootcamp/day_3/Animals2.csv',\n",
        "              delimiter=',')\n",
        "animals2 = animals2[:, ~np.isnan(animals2).all(axis = 0)][~np.isnan(animals2).all(axis = 1), :]\n",
        "airquality = np.genfromtxt('/content/pythonbootcamp/day_3/airquality.csv',\n",
        "              delimiter=',')\n",
        "airquality = airquality[:, ~np.isnan(airquality).all(axis = 0)][~np.isnan(airquality).all(axis = 1), :]\n",
        "nan_inds = np.where(np.isnan(airquality))\n",
        "airquality[nan_inds] = np.take(np.nanmean(airquality, axis = 0), nan_inds[1])\n",
        "\n",
        "### load in sample solution for clean_data() ###\n",
        "def clean_data(data_array):\n",
        "  nan_map = np.isnan(data_array)\n",
        "\n",
        "  data_array = data_array[:, ~nan_map.all(axis = 0)]\n",
        "  data_array = data_array[~nan_map.all(axis = 1), :]\n",
        "  return data_array"
      ]
    },
    {
      "cell_type": "markdown",
      "metadata": {
        "id": "Nsz1KLq_URBP"
      },
      "source": [
        "## Examining attributes\n",
        "\n",
        "<font color = '#ed865c' size = 4>**Make sure to run the cell above before you begin: this will re-load the datasets and functions that we worked on during the last section.**</font>\n",
        "\n",
        "As we discussed yesterday, arrays have *attributes* that describe key characteristics of the array at hand. Let's take a look at the attributes of the `animals2` array, just to make sure that we have the right number of columns and rows."
      ]
    },
    {
      "cell_type": "code",
      "execution_count": 2,
      "metadata": {
        "colab": {
          "base_uri": "https://localhost:8080/"
        },
        "id": "Ngf-3XiJayyE",
        "outputId": "10f42dab-ec42-4492-e7a0-7285bb32184d"
      },
      "outputs": [
        {
          "name": "stdout",
          "output_type": "stream",
          "text": [
            "(65, 2)\n",
            "130\n",
            "2\n"
          ]
        }
      ],
      "source": [
        "print(animals2.shape)\n",
        "print(animals2.size)\n",
        "print(animals2.ndim)"
      ]
    },
    {
      "cell_type": "markdown",
      "metadata": {
        "id": "4Qbt9mtA8BtS"
      },
      "source": [
        "Everything looks to be in order: based on the background information about `animals2`, we know that there should be 65 rows (species) and two columns.\n",
        "\n",
        "## Heads and tails\n",
        "\n",
        "One good place to start is by simply examining the content of the data. As we saw earlier, calling `animals2` directly results in the entire dataset being shown in the output. However, it can be visually difficult to parse all 65 rows at once: in most cases, slicing a small number of rows will suffice for examining the data."
      ]
    },
    {
      "cell_type": "code",
      "execution_count": 3,
      "metadata": {
        "colab": {
          "base_uri": "https://localhost:8080/"
        },
        "id": "zYaK4vqtKGuJ",
        "outputId": "0fefd389-fbcb-4aac-bf54-11f57cfa4715"
      },
      "outputs": [
        {
          "data": {
            "text/plain": [
              "array([[1.350e+00, 8.100e+00],\n",
              "       [4.650e+02, 4.230e+02],\n",
              "       [3.633e+01, 1.195e+02],\n",
              "       [2.766e+01, 1.150e+02],\n",
              "       [1.040e+00, 5.500e+00],\n",
              "       [1.170e+04, 5.000e+01],\n",
              "       [2.547e+03, 4.603e+03],\n",
              "       [1.871e+02, 4.190e+02],\n",
              "       [5.210e+02, 6.550e+02],\n",
              "       [1.000e+01, 1.150e+02]])"
            ]
          },
          "execution_count": 3,
          "metadata": {},
          "output_type": "execute_result"
        }
      ],
      "source": [
        "# let's slice the first ten rows of animals2\n",
        "animals2[:10,:]"
      ]
    },
    {
      "cell_type": "markdown",
      "metadata": {
        "id": "He8JF9kRJphI"
      },
      "source": [
        "Good! This is a simple way for us to inspect a small, ordered section of the data: one row after another, for ten rows. This is described as viewing the **head** of our dataset.\n",
        "\n",
        "Similarly, taking a small number of rows from the end of your dataset is described as viewing the **tail** of the data."
      ]
    },
    {
      "cell_type": "code",
      "execution_count": 4,
      "metadata": {
        "colab": {
          "base_uri": "https://localhost:8080/"
        },
        "id": "QYj6D49USD2k",
        "outputId": "5f8ee733-5b9c-4423-e670-d58106a0a1de"
      },
      "outputs": [
        {
          "data": {
            "text/plain": [
              "array([[3.600e+00, 2.100e+01],\n",
              "       [4.288e+00, 3.920e+01],\n",
              "       [7.500e-02, 1.200e+00],\n",
              "       [4.800e-02, 3.300e-01],\n",
              "       [3.000e+00, 2.500e+01],\n",
              "       [1.600e+02, 1.690e+02],\n",
              "       [9.000e-01, 2.600e+00],\n",
              "       [1.620e+00, 1.140e+01],\n",
              "       [1.040e-01, 2.500e+00],\n",
              "       [4.235e+00, 5.040e+01]])"
            ]
          },
          "execution_count": 4,
          "metadata": {},
          "output_type": "execute_result"
        }
      ],
      "source": [
        "# try it out:\n",
        "# slice the *last* 10 rows of animals2\n",
        "\n",
        "animals2[animals2.shape[0]-10:,:]"
      ]
    },
    {
      "cell_type": "markdown",
      "metadata": {
        "id": "JEkqoZE5DzYa"
      },
      "source": [
        "## Summarizing values\n",
        "\n",
        "Finally, we can generate some simple summary values. We've already taught you the following functions/methods that describe summary values of an array:\n",
        "* `np.min()` / `.min()`\n",
        "* `np.max()` / `.max()`\n",
        "* `np.mean()` / `.mean()`\n",
        "* `np.std()` / `.std()`\n",
        "* `np.var()` / `.var()`\n",
        "* `np.median()` (no method equivalent, for reasons unknown to us...)\n",
        "\n",
        "It's important to keep in mind that these summary functions/methods need a specific axis parameter to guide their operation: a row-wise mean will be different than a column-wise mean.\n",
        "\n",
        "* `0` indicates a column-wise operation.\n",
        "* `1` indicates a row-wise operation."
      ]
    },
    {
      "cell_type": "code",
      "execution_count": 5,
      "metadata": {
        "colab": {
          "base_uri": "https://localhost:8080/"
        },
        "id": "1cGCSry7kYBY",
        "outputId": "ff122bf4-3af9-43c1-bf5b-19b623a7a515"
      },
      "outputs": [
        {
          "data": {
            "text/plain": [
              "array([1852.69198462,  274.28953846])"
            ]
          },
          "execution_count": 5,
          "metadata": {},
          "output_type": "execute_result"
        }
      ],
      "source": [
        "# try it out:\n",
        "# calculate the column-wise means of animals2\n",
        "\n",
        "animals2.mean(axis = 0)"
      ]
    },
    {
      "cell_type": "markdown",
      "metadata": {
        "id": "TmY-LHPsCJXF"
      },
      "source": [
        "These last four functions are slightly more advanced in their scope. We've summarized their main inputs and functions, but they do offer additional options that may be useful to you in the future. You can view these options in the docs.\n",
        "* `np.unique()`: Takes an array and returns a sorted copy of unique values. [[docs]](https://numpy.org/doc/stable/reference/generated/numpy.unique.html)\n",
        "* `np.histogram()`: Takes an array of values and returns a tuple of two arrays: the first array describes bin count, and the second array gives left-hand bin boundaries. [[docs]](https://numpy.org/doc/stable/reference/generated/numpy.histogram.html)\n",
        "  * You can explicitly specify desired bin boundaries using the `bins` input.\n",
        "* `np.percentile()`: Takes in an array and a percentile value (float, `0.0`-`100.0`), returning the value of the array that demarcates the given percentile value. [[docs]](https://numpy.org/doc/stable/reference/generated/numpy.percentile.html)\n",
        "* `np.quantile()`: Takes in an array and a quantile value (float, `0.0`-`1.0`), returning the value of the array that demarcates the given quantile value. [[docs]](https://numpy.org/doc/stable/reference/generated/numpy.quantile.html)\n",
        "\n",
        "We'll show you how these work using the `airquality` dataset. We've provided the columns again for your convenience:\n",
        "\n",
        "| Index  | Description                   |\n",
        "|--------|-------------------------------|\n",
        "| 0      | Ozone (ppb)                   |\n",
        "| 1      | Solar radiation (Langeleys)   |\n",
        "| 2      | Wind (mph)                    |\n",
        "| 3      | Temperature (degrees F)       |\n",
        "| 4      | Month (`1`-`12`)              |\n",
        "| 5      | Day of month (`1`-`31`)       |"
      ]
    },
    {
      "cell_type": "code",
      "execution_count": 6,
      "metadata": {
        "colab": {
          "base_uri": "https://localhost:8080/"
        },
        "id": "iVPF3JWbCEFW",
        "outputId": "b2ad5072-9c75-4ad3-d54e-91454b4d9fd8"
      },
      "outputs": [
        {
          "data": {
            "text/plain": [
              "(array([ 8,  8, 13, 10, 22, 24, 29, 20, 12,  7]),\n",
              " array([56. , 60.1, 64.2, 68.3, 72.4, 76.5, 80.6, 84.7, 88.8, 92.9, 97. ]))"
            ]
          },
          "execution_count": 6,
          "metadata": {},
          "output_type": "execute_result"
        }
      ],
      "source": [
        "# using np.histogram() to generate bin count and intervals for\n",
        "# temperature values in airquality\n",
        "\n",
        "np.histogram(airquality[:,3])"
      ]
    },
    {
      "cell_type": "code",
      "execution_count": 8,
      "metadata": {
        "colab": {
          "base_uri": "https://localhost:8080/"
        },
        "id": "NaFk0jARDheh",
        "outputId": "0e7afe82-833c-4984-c46c-68812917bb37"
      },
      "outputs": [
        {
          "data": {
            "text/plain": [
              "array([ 56.,  61.,  66.,  71.,  76.,  81.,  86.,  91.,  96., 101.])"
            ]
          },
          "execution_count": 8,
          "metadata": {},
          "output_type": "execute_result"
        }
      ],
      "source": [
        "# creating bins from the minimum temp to the maximum temp in 5 degree intervals\n",
        "temp_bins = np.arange(airquality[:,3].min(), airquality[:,3].max() + 5, 5)\n",
        "temp_bins"
      ]
    },
    {
      "cell_type": "code",
      "execution_count": 9,
      "metadata": {
        "colab": {
          "base_uri": "https://localhost:8080/"
        },
        "id": "fNi5WU8sF3Sj",
        "outputId": "2e0c3199-25b5-44e8-b400-bd4455e42ff0"
      },
      "outputs": [
        {
          "data": {
            "text/plain": [
              "(array([ 8, 10, 15, 19, 33, 34, 20, 12,  2]),\n",
              " array([ 56.,  61.,  66.,  71.,  76.,  81.,  86.,  91.,  96., 101.]))"
            ]
          },
          "execution_count": 9,
          "metadata": {},
          "output_type": "execute_result"
        }
      ],
      "source": [
        "# specifying temp_bins in np.histogram()\n",
        "np.histogram(airquality[:,3], bins = temp_bins)"
      ]
    },
    {
      "cell_type": "markdown",
      "metadata": {
        "id": "laeHXxpC9AV6"
      },
      "source": [
        "## Very, very simple plots\n",
        "\n",
        "Plots can be a useful tool in data exploration: sometimes it's easier to identify patterns in data once it's been visualized.\n",
        "\n",
        "Today, we'll introduce you to some very simple plotting functions that you can use to explore your data. We'll use a popular package called `matplotlib`, which contains a collection of useful MATLAB-like plotting functions (`pyplot`)."
      ]
    },
    {
      "cell_type": "code",
      "execution_count": 10,
      "metadata": {
        "id": "ptPVqnP68_mT"
      },
      "outputs": [],
      "source": [
        "import matplotlib.pyplot as plt # the alias is plt"
      ]
    },
    {
      "cell_type": "markdown",
      "metadata": {
        "id": "mq_RLdzK97mk"
      },
      "source": [
        "For today's purposes, we'll only introduce you to three simple `pyplot` functions and their key functionality.\n",
        "* `plt.hist()`: Takes in an array of values to generate a basic histogram plot.\n",
        "  * Can be used to visualize the distribution of values in a single column.\n",
        "  * You can explicitly specify desired bin boundaries using the `bins` input.\n",
        "* `plt.scatter()`: Takes in two arrays of values and generates a scatter plot.\n",
        "  * Can be used to visualize the relationship between values in two columns.\n",
        "* `plt.violinplot()`: Takes in a 2D array of values and plots a series of \"violins\".\n",
        "  * Can be used to visualize the distribution of values in *multiple* columns."
      ]
    },
    {
      "cell_type": "code",
      "execution_count": 11,
      "metadata": {
        "colab": {
          "base_uri": "https://localhost:8080/",
          "height": 484
        },
        "id": "26vlWUV6vmfd",
        "outputId": "c10e2efc-30b8-49af-b9e8-cc117fea89d5"
      },
      "outputs": [
        {
          "data": {
            "text/plain": [
              "(array([ 8.,  8., 13., 10., 22., 24., 29., 20., 12.,  7.]),\n",
              " array([56. , 60.1, 64.2, 68.3, 72.4, 76.5, 80.6, 84.7, 88.8, 92.9, 97. ]),\n",
              " <BarContainer object of 10 artists>)"
            ]
          },
          "execution_count": 11,
          "metadata": {},
          "output_type": "execute_result"
        },
        {
          "data": {
            "image/png": "[encoded data removed]",
            "text/plain": [
              "<Figure size 640x480 with 1 Axes>"
            ]
          },
          "metadata": {},
          "output_type": "display_data"
        }
      ],
      "source": [
        "# creating a histogram of temperatures\n",
        "\n",
        "plt.hist(airquality[:,3])"
      ]
    },
    {
      "cell_type": "code",
      "execution_count": 12,
      "metadata": {
        "colab": {
          "base_uri": "https://localhost:8080/",
          "height": 484
        },
        "id": "l3Nn8B7XAOpK",
        "outputId": "a393b22a-a0c4-466b-a92d-2bd82755aa78"
      },
      "outputs": [
        {
          "data": {
            "text/plain": [
              "(array([ 8., 10., 15., 19., 33., 34., 20., 12.,  2.]),\n",
              " array([ 56.,  61.,  66.,  71.,  76.,  81.,  86.,  91.,  96., 101.]),\n",
              " <BarContainer object of 9 artists>)"
            ]
          },
          "execution_count": 12,
          "metadata": {},
          "output_type": "execute_result"
        },
        {
          "data": {
            "image/png": "[encoded data removed]",
            "text/plain": [
              "<Figure size 640x480 with 1 Axes>"
            ]
          },
          "metadata": {},
          "output_type": "display_data"
        }
      ],
      "source": [
        "# creating a histogram of temperatures using temp_bins\n",
        "\n",
        "plt.hist(airquality[:,3], bins = temp_bins)"
      ]
    },
    {
      "cell_type": "code",
      "execution_count": 13,
      "metadata": {
        "colab": {
          "base_uri": "https://localhost:8080/",
          "height": 448
        },
        "id": "pv2YA4iDIVBz",
        "outputId": "27734a11-3951-4b84-cbd9-0142e257d3a7"
      },
      "outputs": [
        {
          "data": {
            "text/plain": [
              "<matplotlib.collections.PathCollection at 0x7f2f1c236ec0>"
            ]
          },
          "execution_count": 13,
          "metadata": {},
          "output_type": "execute_result"
        },
        {
          "data": {
            "image/png": "[encoded data removed]",
            "text/plain": [
              "<Figure size 640x480 with 1 Axes>"
            ]
          },
          "metadata": {},
          "output_type": "display_data"
        }
      ],
      "source": [
        "# visualizing temperature ranges by month\n",
        "\n",
        "plt.scatter(airquality[:,4], airquality[:,3])"
      ]
    },
    {
      "cell_type": "code",
      "execution_count": 14,
      "metadata": {
        "colab": {
          "base_uri": "https://localhost:8080/",
          "height": 596
        },
        "id": "6fyUfpgnQxrl",
        "outputId": "5026bb98-439e-4a66-b5b9-5d82f8f9cc5c"
      },
      "outputs": [
        {
          "data": {
            "text/plain": [
              "{'bodies': [<matplotlib.collections.PolyCollection at 0x7f2f1c0e0f40>,\n",
              "  <matplotlib.collections.PolyCollection at 0x7f2f1c0e12a0>,\n",
              "  <matplotlib.collections.PolyCollection at 0x7f2f1c0e1600>,\n",
              "  <matplotlib.collections.PolyCollection at 0x7f2f1c0e1960>,\n",
              "  <matplotlib.collections.PolyCollection at 0x7f2f1c0e1cc0>,\n",
              "  <matplotlib.collections.PolyCollection at 0x7f2f1c0e2020>],\n",
              " 'cmaxes': <matplotlib.collections.LineCollection at 0x7f2f1c0e0e80>,\n",
              " 'cmins': <matplotlib.collections.LineCollection at 0x7f2f1c0e26e0>,\n",
              " 'cbars': <matplotlib.collections.LineCollection at 0x7f2f1c0e2b30>}"
            ]
          },
          "execution_count": 14,
          "metadata": {},
          "output_type": "execute_result"
        },
        {
          "data": {
            "image/png": "[encoded data removed]",
            "text/plain": [
              "<Figure size 640x480 with 1 Axes>"
            ]
          },
          "metadata": {},
          "output_type": "display_data"
        }
      ],
      "source": [
        "# visualize the distribution of values in all the columns.\n",
        "\n",
        "plt.violinplot(airquality)"
      ]
    },
    {
      "cell_type": "markdown",
      "metadata": {
        "id": "n0goybhJLCBt"
      },
      "source": [
        "As you can see, these plots are quite rudimentary, but they get the job done for data exploration. We'll explore greater `pyplot` functionality on Friday."
      ]
    },
    {
      "cell_type": "markdown",
      "metadata": {
        "id": "FXknmaKG1F-i"
      },
      "source": [
        "# Mini-project: Exploring health data\n",
        "\n",
        "That's the last of the `numpy` techniques that we'll cover in this bootcamp!\n",
        "\n",
        "To cap things off, we're going to embark on a mini-project that will require you to use the skills you've learned so far. We've provided two project options:\n",
        "\n",
        "1. `badhealth`, a dataset describing healthcare habits of individuals and their self-reported health status. (Recommended)\n",
        "2. `hepatocellular`, a dataset from a journal article exploring gene expression biomarkers in cancer prognosis.\n",
        "\n",
        "We recommend that you start with `badhealth` and work on `hepatocellular` if you have extra time.\n"
      ]
    },
    {
      "cell_type": "markdown",
      "metadata": {
        "id": "nDHjEB7nPbIA"
      },
      "source": [
        "## `badhealth` dataset\n",
        "\n",
        "Our first dataset is the `badhealth` dataset. This dataset originates from a 1998 German health study of 1,127 individuals and their healthcare habits. [[source]](https://vincentarelbundock.github.io/Rdatasets/doc/COUNT/badhealth.html)\n",
        "\n",
        "Here are the descriptions and indices of columns in `badhealth`.\n",
        "\n",
        "| Index  | Description                   |\n",
        "|--------|-------------------------------|\n",
        "| 0      | Recorded # of doctor visits   |\n",
        "| 1      | Reported health status:<br>`0`: health, `1`: bad health   |\n",
        "| 2      | Age of patient (years)        |\n",
        "\n",
        "Using the following file path, import the `badhealth` dataset to a variable (also called `badhealth`). Slice and print the first 10 rows of the dataset.\n",
        "\n",
        "```\n",
        "'/content/pythonbootcamp/day_3/badhealth.csv'\n",
        "```"
      ]
    },
    {
      "cell_type": "code",
      "execution_count": 15,
      "metadata": {
        "colab": {
          "base_uri": "https://localhost:8080/"
        },
        "id": "0dDq4-QpPqtO",
        "outputId": "415c378d-77a2-412d-a85c-b99dd54f327e"
      },
      "outputs": [
        {
          "name": "stdout",
          "output_type": "stream",
          "text": [
            "[[nan nan nan nan]\n",
            " [nan 30.  0. 58.]\n",
            " [nan 20.  0. 54.]\n",
            " [nan 16.  0. 44.]\n",
            " [nan 20.  0. 57.]\n",
            " [nan 15.  0. 33.]\n",
            " [nan 15.  0. 28.]\n",
            " [nan 13.  0. 37.]\n",
            " [nan 15.  0. 31.]\n",
            " [nan 15.  0. 30.]]\n"
          ]
        }
      ],
      "source": [
        "### use this cell to import and view the head of the data ###\n",
        "badhealth = np.genfromtxt('/content/pythonbootcamp/day_3/badhealth.csv',\n",
        "                          delimiter = ',')\n",
        "print(badhealth[:10, :])"
      ]
    },
    {
      "cell_type": "markdown",
      "metadata": {
        "id": "MNB_U2mkPTbC"
      },
      "source": [
        "Next, use `clean_data()` to clean `badhealth`. There shouldn't be any interspersed `nan` values, but make sure to check anyway to practice your `nan`-detection routine!"
      ]
    },
    {
      "cell_type": "code",
      "execution_count": 16,
      "metadata": {
        "colab": {
          "base_uri": "https://localhost:8080/"
        },
        "id": "Dhi8pa5SPoVT",
        "outputId": "17f4be0d-0f3b-4338-f719-d959df33e2aa"
      },
      "outputs": [
        {
          "name": "stdout",
          "output_type": "stream",
          "text": [
            "Remaining nan values: 0\n"
          ]
        }
      ],
      "source": [
        "### write your code below ###\n",
        "\n",
        "badhealth = clean_data(badhealth)\n",
        "print('Remaining nan values:', np.isnan(badhealth).sum())"
      ]
    },
    {
      "cell_type": "markdown",
      "metadata": {
        "id": "pXf0uY36MuSB"
      },
      "source": [
        "Let's consider some of the key summary values that we might want to identify in our dataset, such as mean and median values.\n",
        "\n",
        "Write a function called `summary_values()` that takes an array and returns a dictionary containing:\n",
        "* The number of elements in the array, with the key value `'count'`.\n",
        "* Column-wise minimum values, with the key value `'mins'`\n",
        "* Column-wise maximum values, with the key value `'maxs'`\n",
        "* Column-wise means, with the key value `'means'`\n",
        "* Column-wise medians, with the key value `'medians'`\n",
        "* Column-wise standard deviations, with the key value `'stdevs'`"
      ]
    },
    {
      "cell_type": "code",
      "execution_count": 17,
      "metadata": {
        "id": "3opBMcq1SfWZ"
      },
      "outputs": [],
      "source": [
        "### write your code below ###\n",
        "\n",
        "def summary_values(data_array):\n",
        "  return {'count': data_array.shape[0],\n",
        "          'mins': data_array.min(axis = 0),\n",
        "          'maxs': data_array.max(axis = 0),\n",
        "          'means': data_array.mean(axis = 0),\n",
        "          'medians': np.median(data_array, axis = 0),\n",
        "          'stdevs': data_array.std(axis = 0)}"
      ]
    },
    {
      "cell_type": "markdown",
      "metadata": {
        "id": "rFUxkBPrM1lD"
      },
      "source": [
        "Next, using `summary_values()`, find the specified summaries of all columns in `badhealth`."
      ]
    },
    {
      "cell_type": "code",
      "execution_count": 18,
      "metadata": {
        "colab": {
          "base_uri": "https://localhost:8080/"
        },
        "id": "78jwq6vjdVUM",
        "outputId": "edca4fbf-e080-4acc-e6c8-69a6532a52e7"
      },
      "outputs": [
        {
          "data": {
            "text/plain": [
              "{'count': 1127,\n",
              " 'mins': array([ 0.,  0., 20.]),\n",
              " 'maxs': array([40.,  1., 60.]),\n",
              " 'means': array([ 2.35314996,  0.09937888, 37.22892635]),\n",
              " 'medians': array([ 1.,  0., 35.]),\n",
              " 'stdevs': array([ 3.45992988,  0.29917005, 10.82411358])}"
            ]
          },
          "execution_count": 18,
          "metadata": {},
          "output_type": "execute_result"
        }
      ],
      "source": [
        "### write your code below ###\n",
        "summary_values(badhealth)"
      ]
    },
    {
      "cell_type": "markdown",
      "metadata": {
        "id": "zzU_ljjUdZG1"
      },
      "source": [
        "Good! Let's try out more of the techniques we learned about earlier, such as percentiles and histograms.\n",
        "\n",
        "Below, use `np.histogram()` to generate a histogram of individual ages in `badhealth` using 5 year-intervals from the min to max age (inclusive of max age). Assign the intervals to a variable called `age_bins`."
      ]
    },
    {
      "cell_type": "code",
      "execution_count": 19,
      "metadata": {
        "colab": {
          "base_uri": "https://localhost:8080/"
        },
        "id": "P9CYu9hF-uU7",
        "outputId": "28b538cf-ce69-4cf8-f7f2-5cadb92e188a"
      },
      "outputs": [
        {
          "data": {
            "text/plain": [
              "(array([124, 226, 196, 122, 132, 130, 105,  92]),\n",
              " array([20., 25., 30., 35., 40., 45., 50., 55., 60.]))"
            ]
          },
          "execution_count": 19,
          "metadata": {},
          "output_type": "execute_result"
        }
      ],
      "source": [
        "### write your code below ###\n",
        "age_bins = np.arange(badhealth[:,2].min(), badhealth[:,2].max() + 1, 5)\n",
        "np.histogram(badhealth[:,2], bins = age_bins)"
      ]
    },
    {
      "cell_type": "markdown",
      "metadata": {
        "id": "pgrxQjJvewgw"
      },
      "source": [
        "When you're done, try using `plt.hist()` to plot the histogram of ages, defined by `age_bins`: they should yield the same values as `np.histogram()`."
      ]
    },
    {
      "cell_type": "code",
      "execution_count": 20,
      "metadata": {
        "colab": {
          "base_uri": "https://localhost:8080/",
          "height": 484
        },
        "id": "EAkZtblfe5JI",
        "outputId": "8772df78-dc2b-4934-b2dd-f13c44e67e05"
      },
      "outputs": [
        {
          "data": {
            "text/plain": [
              "(array([124., 226., 196., 122., 132., 130., 105.,  92.]),\n",
              " array([20., 25., 30., 35., 40., 45., 50., 55., 60.]),\n",
              " <BarContainer object of 8 artists>)"
            ]
          },
          "execution_count": 20,
          "metadata": {},
          "output_type": "execute_result"
        },
        {
          "data": {
            "image/png": "[encoded data removed]",
            "text/plain": [
              "<Figure size 640x480 with 1 Axes>"
            ]
          },
          "metadata": {},
          "output_type": "display_data"
        }
      ],
      "source": [
        "### write your code below ###\n",
        "\n",
        "plt.hist(badhealth[:,2], bins = age_bins)"
      ]
    },
    {
      "cell_type": "markdown",
      "metadata": {
        "id": "6zgndnmoG0iA"
      },
      "source": [
        "Repeat the above process to generate the histogram and histogram plot of individuals' doctor visits. Save the 5-visit interval bins to a new variable called `visit_bins`."
      ]
    },
    {
      "cell_type": "code",
      "execution_count": 21,
      "metadata": {
        "colab": {
          "base_uri": "https://localhost:8080/",
          "height": 486
        },
        "id": "RS12Ds3kHJV8",
        "outputId": "e8282c02-202e-4b92-cdf4-8568a54b13f9"
      },
      "outputs": [
        {
          "data": {
            "text/plain": [
              "(array([962., 111.,  33.,  12.,   6.,   0.,   2.,   1.]),\n",
              " array([ 0.,  5., 10., 15., 20., 25., 30., 35., 40.]),\n",
              " <BarContainer object of 8 artists>)"
            ]
          },
          "execution_count": 21,
          "metadata": {},
          "output_type": "execute_result"
        },
        {
          "data": {
            "image/png": "[encoded data removed]",
            "text/plain": [
              "<Figure size 640x480 with 1 Axes>"
            ]
          },
          "metadata": {},
          "output_type": "display_data"
        }
      ],
      "source": [
        "### write your code below ###\n",
        "\n",
        "visit_bins = np.arange(badhealth[:,0].min(), badhealth[:,0].max() + 1, 5)\n",
        "plt.hist(badhealth[:,0], bins = visit_bins)"
      ]
    },
    {
      "cell_type": "markdown",
      "metadata": {
        "id": "ba1l7wEOdOgd"
      },
      "source": [
        "What percentile range corresponds to 30 or more visits? Try out different values with `np.percentile()` to find out."
      ]
    },
    {
      "cell_type": "code",
      "execution_count": 22,
      "metadata": {
        "colab": {
          "base_uri": "https://localhost:8080/"
        },
        "id": "qgGdRLT38mzV",
        "outputId": "6fea1cd6-39df-4e48-9a26-acf76dc77f2b"
      },
      "outputs": [
        {
          "name": "stdout",
          "output_type": "stream",
          "text": [
            "30.0\n"
          ]
        }
      ],
      "source": [
        "### write your code below ###\n",
        "\n",
        "print(np.percentile(badhealth[:,0], 99.9))"
      ]
    },
    {
      "cell_type": "markdown",
      "metadata": {
        "id": "zJmmUHXVIEY4"
      },
      "source": [
        "Is there a difference in the age distribution of individuals who *never* visit the doctor, versus individuals who *frequently* visit the doctor?\n",
        "\n",
        "1.   `never_visit` for never-visiting individuals, or individuals with zero visits.\n",
        "2.   `frequent_visit` for frequently-visiting individuals, or individuals who visit more than 95% of other people (95+ percentile)\n",
        "\n"
      ]
    },
    {
      "cell_type": "code",
      "execution_count": 23,
      "metadata": {
        "id": "252OAIvbIfVk"
      },
      "outputs": [],
      "source": [
        "### write your code below ###\n",
        "\n",
        "never_visit = badhealth[badhealth[:,0] == 0]\n",
        "frequent_visit = badhealth[badhealth[:,0] >= np.percentile(badhealth[:,0], 95)]"
      ]
    },
    {
      "cell_type": "markdown",
      "metadata": {
        "id": "yxSGQilQNo0K"
      },
      "source": [
        "Use `summary_values()` to examine the ages of each group. How many individuals are in each group? Does there seem to be a difference in the average/median age?"
      ]
    },
    {
      "cell_type": "code",
      "execution_count": 24,
      "metadata": {
        "colab": {
          "base_uri": "https://localhost:8080/"
        },
        "id": "sKZOYlBhNpem",
        "outputId": "c81ba4e5-bba9-44e1-d6c2-e0fffb2a281a"
      },
      "outputs": [
        {
          "name": "stdout",
          "output_type": "stream",
          "text": [
            "{'count': 360, 'mins': 20.0, 'maxs': 60.0, 'means': 37.45, 'medians': 37.0, 'stdevs': 10.592332132254919}\n",
            "{'count': 57, 'mins': 22.0, 'maxs': 60.0, 'means': 44.19298245614035, 'medians': 45.0, 'stdevs': 10.241707979288686}\n"
          ]
        }
      ],
      "source": [
        "### write your code below ###\n",
        "print(summary_values(never_visit[:,2]))\n",
        "print(summary_values(frequent_visit[:,2]))"
      ]
    },
    {
      "cell_type": "markdown",
      "metadata": {
        "id": "EulZFWUbdJud"
      },
      "source": [
        "Finally, plot age histograms for both groups using `age_bins`."
      ]
    },
    {
      "cell_type": "code",
      "execution_count": 25,
      "metadata": {
        "colab": {
          "base_uri": "https://localhost:8080/",
          "height": 484
        },
        "id": "IZoFDJOG_5qJ",
        "outputId": "e19c92d5-64a6-4ca5-dd8a-88ed380ee08b"
      },
      "outputs": [
        {
          "data": {
            "text/plain": [
              "(array([39., 72., 49., 43., 45., 53., 38., 21.]),\n",
              " array([20., 25., 30., 35., 40., 45., 50., 55., 60.]),\n",
              " <BarContainer object of 8 artists>)"
            ]
          },
          "execution_count": 25,
          "metadata": {},
          "output_type": "execute_result"
        },
        {
          "data": {
            "image/png": "[encoded data removed]",
            "text/plain": [
              "<Figure size 640x480 with 1 Axes>"
            ]
          },
          "metadata": {},
          "output_type": "display_data"
        }
      ],
      "source": [
        "# age histogram for never_visit\n",
        "### write your code below ###\n",
        "plt.hist(never_visit[:,2], bins = age_bins)"
      ]
    },
    {
      "cell_type": "code",
      "execution_count": 26,
      "metadata": {
        "colab": {
          "base_uri": "https://localhost:8080/",
          "height": 484
        },
        "id": "j1CF22XOOmko",
        "outputId": "09fbd70e-c11f-456d-8d02-731d4a61a7dc"
      },
      "outputs": [
        {
          "data": {
            "text/plain": [
              "(array([ 1.,  4.,  9.,  3., 11.,  7., 10., 12.]),\n",
              " array([20., 25., 30., 35., 40., 45., 50., 55., 60.]),\n",
              " <BarContainer object of 8 artists>)"
            ]
          },
          "execution_count": 26,
          "metadata": {},
          "output_type": "execute_result"
        },
        {
          "data": {
            "image/png": "[encoded data removed]",
            "text/plain": [
              "<Figure size 640x480 with 1 Axes>"
            ]
          },
          "metadata": {},
          "output_type": "display_data"
        }
      ],
      "source": [
        "# age histogram for frequent_visit\n",
        "### write your code below ###\n",
        "\n",
        "plt.hist(frequent_visit[:,2], bins = age_bins)"
      ]
    },
    {
      "cell_type": "markdown",
      "metadata": {
        "id": "E4g4_fm8PZub"
      },
      "source": [
        "Are there other explorations you can think of, or better ways to plot the relationship between variables? If time permits, share your own useful explorations or visualizations!"
      ]
    },
    {
      "cell_type": "markdown",
      "metadata": {
        "id": "Q-uWZVMGgrEs"
      },
      "source": [
        "## `hepatocellular` dataset\n",
        "\n",
        "The `hepatocellular` dataset describes clinical metrics and biomarkers sampled in patients with hepatocellular carcinoma.\n",
        "\n",
        "> This dataset was obtained from this [source](https://vincentarelbundock.github.io/Rdatasets/doc/asaur/hepatoCellular.html), and originates from [Li et al. 2014: CXCL17 Expression Predicts Poor Prognosis and Correlates with Adverse Immune Infiltration in Hepatocellular Carcinoma](https://journals.plos.org/plosone/article?id=10.1371/journal.pone.0110064).\n",
        "\n",
        "`hepatocellular` contains significantly more columns than `badhealth`, spanning 48 variables for 227 individuals.\n",
        "\n",
        "Columns are listed in the following order: we've provided the 0-index of all columns for your convenience. All column values are encoded numerically.\n",
        "\n",
        "| Index   |      Description     | Index   |        Description       |  Index  |      Description      |  Index   |      Description    |\n",
        "| ------- | ---------------------| ------- | -------------------------| ------- | ----------------------| -------- | --------------------|\n",
        "| 0       | Patient ID number    | 12      | Capsulation              | 24      | CD8T                  | 36       | CD20NR              |\n",
        "| 1       | Age                  | 13      | TNM                      | 25      | CD8N                  | 37       | CD57NR              |\n",
        "| 2       | Sex                  | 14      | BCLC                     | 26      | CD20T                 | 38       | CD15NR              |\n",
        "| 3       | HBsAg                | 15      | Overall survival         | 27      | CD20N                 | 39       | CD68NR              |\n",
        "| 4       | Cirrhosis status     | 16      | Death                    | 28      | CD57T                 | 40       | CD4TR               |\n",
        "| 5       | ALT                  | 17      | Recurrence-free survival | 29      | CD57N                 | 41       | CD8TR               |\n",
        "| 6       | AST                  | 18      | Recurrence               | 30      | CD15T                 | 42       | CD20TR              |\n",
        "| 7       | AFP                  | 19      | CXCL17T                  | 31      | CD15N                 | 43       | CD57TR              |\n",
        "| 8       | Tumor size           | 20      | CXCL17P                  | 32      | CD68T                 | 44       | CD15TR              |\n",
        "| 9       | Tumor differentiation| 21      | CXCL17N                  | 33      | CD68N                 | 45       | CD68TR              |\n",
        "| 10      | Vascular invasion    | 22      | CD4T                     | 34      | CD4NR                 | 46       | Ki67                |\n",
        "| 11      | Tumor multiplicity   | 23      | CD4N                     | 35      | CD8NR                 | 47       | CD34                |\n",
        "\n",
        "That's a lot of columns, but have no fear – we're only going to have you take a look at a couple of them, and you don't need to know what the biological function of the biomarkers are (but we won't stop you from looking them up!)\n",
        "\n",
        "Just as before, start by importing the data from the following file path, then cleaning all-`nan` rows/columns using `clean_data()`.\n",
        "\n",
        "`'/content/pythonbootcamp/day_3/hepatoCellular.csv'`\n",
        "\n",
        "Assign this to a variable called `hepatocellular`."
      ]
    },
    {
      "cell_type": "code",
      "execution_count": 27,
      "metadata": {
        "colab": {
          "base_uri": "https://localhost:8080/"
        },
        "id": "ufksqFn-hCyv",
        "outputId": "245a9558-063e-453d-8bf3-bbb8039e8fc5"
      },
      "outputs": [
        {
          "name": "stdout",
          "output_type": "stream",
          "text": [
            "Remaining nan values: 3276\n"
          ]
        }
      ],
      "source": [
        "### use this cell to import and clean the data ###\n",
        "hepatocellular = np.genfromtxt('/content/pythonbootcamp/day_3/hepatoCellular.csv',\n",
        "                               delimiter = ',')\n",
        "hepatocellular = clean_data(hepatocellular)\n",
        "print('Remaining nan values:', np.isnan(hepatocellular).sum())"
      ]
    },
    {
      "cell_type": "markdown",
      "metadata": {
        "id": "jLMUcoJbTLct"
      },
      "source": [
        "Check for remaining `nan` values by column. Which columns still have `nan` values?"
      ]
    },
    {
      "cell_type": "code",
      "execution_count": 28,
      "metadata": {
        "colab": {
          "base_uri": "https://localhost:8080/"
        },
        "id": "e7HrYPAhTAi_",
        "outputId": "41a29954-09b4-40ca-8bb4-bb0a7e2165fc"
      },
      "outputs": [
        {
          "data": {
            "text/plain": [
              "array([  0,   0,   0,   0,   0,   0,   0,   0,   0,   0,   0,   0,   0,\n",
              "         0,   0,   0,   0,   0,   0,   0,   0,   0, 126, 126, 126, 126,\n",
              "       126, 126, 126, 126, 126, 126, 126, 126, 126, 126, 126, 126, 126,\n",
              "       126, 126, 126, 126, 126, 126, 126, 126, 126])"
            ]
          },
          "execution_count": 28,
          "metadata": {},
          "output_type": "execute_result"
        }
      ],
      "source": [
        "### write your code below ###\n",
        "np.isnan(hepatocellular).sum(axis = 0)"
      ]
    },
    {
      "cell_type": "markdown",
      "metadata": {
        "id": "_JwVI8cEbSa4"
      },
      "source": [
        "For our purposes, we'll only be examining columns without `nan` values. The `hepatocellular` dataset has data for three measurements of `CXCL17` gene expression:\n",
        "* `CXCL17T`, Index 19: Intratumoral gene expression (measured within tumoral tissue).\n",
        "* `CXCL17P`, Index 20: Peritumoral gene expression (measured adjacent to tumoral tissue).\n",
        "* `CXCL17N`, Index 21: Non-tumoral gene expression.\n",
        "\n",
        "Recall the simple `pyplot` functions we taught you about earlier: which one is suitable for visualizing all three measurements of *CXCL17* expression? Use this function to visualize gene expression across all three measurements for all patients in `hepatocellular`."
      ]
    },
    {
      "cell_type": "code",
      "execution_count": 29,
      "metadata": {
        "colab": {
          "base_uri": "https://localhost:8080/",
          "height": 537
        },
        "id": "YQBpiQX_b5fm",
        "outputId": "29e04c76-36d8-43f3-fa71-edb1684a41e7"
      },
      "outputs": [
        {
          "data": {
            "text/plain": [
              "{'bodies': [<matplotlib.collections.PolyCollection at 0x7f2f01bb1450>,\n",
              "  <matplotlib.collections.PolyCollection at 0x7f2f01bb2020>,\n",
              "  <matplotlib.collections.PolyCollection at 0x7f2f01bb11b0>],\n",
              " 'cmaxes': <matplotlib.collections.LineCollection at 0x7f2f01bb1360>,\n",
              " 'cmins': <matplotlib.collections.LineCollection at 0x7f2f01bb2ef0>,\n",
              " 'cbars': <matplotlib.collections.LineCollection at 0x7f2f01b9c700>}"
            ]
          },
          "execution_count": 29,
          "metadata": {},
          "output_type": "execute_result"
        },
        {
          "data": {
            "image/png": "[encoded data removed]",
            "text/plain": [
              "<Figure size 640x480 with 1 Axes>"
            ]
          },
          "metadata": {},
          "output_type": "display_data"
        }
      ],
      "source": [
        "# visualize the measurements of CXCL17 expression\n",
        "### write your code below ###\n",
        "\n",
        "plt.violinplot(hepatocellular[:,19:22])"
      ]
    },
    {
      "cell_type": "markdown",
      "metadata": {
        "id": "SaGOjdBadIHL"
      },
      "source": [
        "Take a moment to examine the range and distribution of each measurement: what does the spread of the values look like?\n",
        "\n",
        "In the paper discussion, the authors posit that high peritumoral and intratumoral *CXCL17* expression is predictive of carcinoma prognosis. Let's see if we can see the same trend, using very basic data exploration.\n",
        "\n",
        "* Find the median values for peritumoral and intratumoral *CXCL17* expression.\n",
        "* Create two new subsets: `low_exp`, for patients with below-median expression for both peri- and intratumoral expression, and `high_exp`, for patients with above-median expression."
      ]
    },
    {
      "cell_type": "code",
      "execution_count": 30,
      "metadata": {
        "id": "dsGOa0e-dom1"
      },
      "outputs": [],
      "source": [
        "### write your code below ###\n",
        "median_intra = np.median(hepatocellular[:,19])\n",
        "median_peri = np.median(hepatocellular[:,20])\n",
        "\n",
        "low_exp = hepatocellular[(hepatocellular[:,19] < median_intra) & (hepatocellular[:,20] < median_peri)]\n",
        "high_exp = hepatocellular[(hepatocellular[:,19] > median_intra) & (hepatocellular[:,20] > median_peri)]"
      ]
    },
    {
      "cell_type": "markdown",
      "metadata": {
        "id": "P5OlqSl9e_MF"
      },
      "source": [
        "Next, re-examine the distribution of all three *CXCL17T* measurements: this time, create one plot for `low_exp` and `high_exp`. Do you notice any trends or associations?"
      ]
    },
    {
      "cell_type": "code",
      "execution_count": 31,
      "metadata": {
        "colab": {
          "base_uri": "https://localhost:8080/",
          "height": 537
        },
        "id": "v2rYXTrvewTH",
        "outputId": "dc9f05d2-7e99-4a57-80e7-fbe2d60ee371"
      },
      "outputs": [
        {
          "data": {
            "text/plain": [
              "{'bodies': [<matplotlib.collections.PolyCollection at 0x7f2f01accc40>,\n",
              "  <matplotlib.collections.PolyCollection at 0x7f2f01accfa0>,\n",
              "  <matplotlib.collections.PolyCollection at 0x7f2f01acd1e0>],\n",
              " 'cmaxes': <matplotlib.collections.LineCollection at 0x7f2f01accbb0>,\n",
              " 'cmins': <matplotlib.collections.LineCollection at 0x7f2f01acd810>,\n",
              " 'cbars': <matplotlib.collections.LineCollection at 0x7f2f01acdbd0>}"
            ]
          },
          "execution_count": 31,
          "metadata": {},
          "output_type": "execute_result"
        },
        {
          "data": {
            "image/png": "[encoded data removed]",
            "text/plain": [
              "<Figure size 640x480 with 1 Axes>"
            ]
          },
          "metadata": {},
          "output_type": "display_data"
        }
      ],
      "source": [
        "# plot distributions of CXCL17 for low_exp\n",
        "### write your code below ###\n",
        "\n",
        "plt.violinplot(low_exp[:,19:22])"
      ]
    },
    {
      "cell_type": "code",
      "execution_count": 32,
      "metadata": {
        "colab": {
          "base_uri": "https://localhost:8080/",
          "height": 537
        },
        "id": "hucGeVUde0nz",
        "outputId": "e9f6784c-e78d-4183-a6b5-1445320ed280"
      },
      "outputs": [
        {
          "data": {
            "text/plain": [
              "{'bodies': [<matplotlib.collections.PolyCollection at 0x7f2f01986380>,\n",
              "  <matplotlib.collections.PolyCollection at 0x7f2f019866e0>,\n",
              "  <matplotlib.collections.PolyCollection at 0x7f2f019869b0>],\n",
              " 'cmaxes': <matplotlib.collections.LineCollection at 0x7f2f019862f0>,\n",
              " 'cmins': <matplotlib.collections.LineCollection at 0x7f2f01986fe0>,\n",
              " 'cbars': <matplotlib.collections.LineCollection at 0x7f2f019873a0>}"
            ]
          },
          "execution_count": 32,
          "metadata": {},
          "output_type": "execute_result"
        },
        {
          "data": {
            "image/png": "[encoded data removed]",
            "text/plain": [
              "<Figure size 640x480 with 1 Axes>"
            ]
          },
          "metadata": {},
          "output_type": "display_data"
        }
      ],
      "source": [
        "# plot distributions of CXCL17 for high_exp\n",
        "### write your code below ###\n",
        "\n",
        "plt.violinplot(high_exp[:,19:22])"
      ]
    },
    {
      "cell_type": "markdown",
      "metadata": {
        "id": "T85sdpvbfZWy"
      },
      "source": [
        "Next, let's look at patient prognosis. There are several measures of patient outcomes in the dataset, but we'll focus on just two: patient death (Index 16) and recurrence-free survival (Index 17).\n",
        "\n",
        "As we mentioned earlier, all of the columns in `hepatocellular` are numeric. Patient death is encoded as either a `0` or a `1`.\n",
        "* `0` indicates that the patient did not die.\n",
        "* `1` indicates patient death.\n",
        "\n",
        "Below, calculate the relative proportion of patients that died in `low_exp` and `high_exp`."
      ]
    },
    {
      "cell_type": "code",
      "execution_count": 33,
      "metadata": {
        "colab": {
          "base_uri": "https://localhost:8080/"
        },
        "id": "CY_6IiCXfw_b",
        "outputId": "5b522f95-85fc-46fd-ac2e-3a74512f5633"
      },
      "outputs": [
        {
          "name": "stdout",
          "output_type": "stream",
          "text": [
            "In low_exp: 0.3058823529411765\n",
            "In high_exp: 0.5411764705882353\n"
          ]
        }
      ],
      "source": [
        "### write your code below ###\n",
        "\n",
        "print('In low_exp:', low_exp[:,16].sum()/low_exp[:,16].shape[0])\n",
        "print('In high_exp:', high_exp[:,16].sum()/high_exp[:,16].shape[0])"
      ]
    },
    {
      "cell_type": "markdown",
      "metadata": {
        "id": "cUVx8iuel3U6"
      },
      "source": [
        "Next, let's examine recurrence-free survival. The clinical definition of recurrence-free survival is the number of days between the dates of sample biopsy and cancer recurrence, or the date from sample biopsy to last follow-up if no recurrence was observed.\n",
        "\n",
        "Below, calculate the summary values and plot the distribution of recurrence-free survival intervals for patients in both groups *on the same histogram plot*."
      ]
    },
    {
      "cell_type": "code",
      "execution_count": 34,
      "metadata": {
        "colab": {
          "base_uri": "https://localhost:8080/"
        },
        "id": "owwj9R9Xm1Go",
        "outputId": "ef0c44f3-133b-4597-b573-53abebf7f326"
      },
      "outputs": [
        {
          "name": "stdout",
          "output_type": "stream",
          "text": [
            "Low expression: {'count': 85, 'mins': 1.0, 'maxs': 76.0, 'means': 30.03529411764706, 'medians': 29.0, 'stdevs': 22.3214205002457}\n",
            "High expression: {'count': 85, 'mins': 1.0, 'maxs': 81.0, 'means': 20.129411764705882, 'medians': 11.0, 'stdevs': 22.006837565947077}\n"
          ]
        }
      ],
      "source": [
        "# calculate summary values here\n",
        "### write your code below ###\n",
        "\n",
        "print('Low expression:', summary_values(low_exp[:,17]))\n",
        "print('High expression:', summary_values(high_exp[:,17]))"
      ]
    },
    {
      "cell_type": "code",
      "execution_count": 35,
      "metadata": {
        "colab": {
          "base_uri": "https://localhost:8080/",
          "height": 501
        },
        "id": "nRr_mxLCkRwy",
        "outputId": "2de7d4d8-5ce1-42db-f1ec-e30aa8c5b887"
      },
      "outputs": [
        {
          "data": {
            "text/plain": [
              "(array([[18., 11., 11.,  7.,  8., 16.,  0.,  4.,  7.,  3.],\n",
              "        [37., 18.,  8.,  4.,  2.,  3.,  0.,  7.,  4.,  2.]]),\n",
              " array([ 1.,  9., 17., 25., 33., 41., 49., 57., 65., 73., 81.]),\n",
              " <a list of 2 BarContainer objects>)"
            ]
          },
          "execution_count": 35,
          "metadata": {},
          "output_type": "execute_result"
        },
        {
          "data": {
            "image/png": "[encoded data removed]",
            "text/plain": [
              "<Figure size 640x480 with 1 Axes>"
            ]
          },
          "metadata": {},
          "output_type": "display_data"
        }
      ],
      "source": [
        "# plot the distribution here\n",
        "### write your code below ###\n",
        "\n",
        "# hint: you can plot *two* histogram distributions on the same plot\n",
        "# if you provide a list of arrays\n",
        "\n",
        "plt.hist([low_exp[:,17], high_exp[:,17]])"
      ]
    },
    {
      "cell_type": "markdown",
      "metadata": {
        "id": "Pd0ye54bn4Ci"
      },
      "source": [
        "That's it for `hepatocellular`! If you've finished early, you can review the paper manuscript and work on executing some more explorations according to the author's findings. If time permits, we'll ask people to share their results.\n",
        "\n"
      ]
    },
    {
      "cell_type": "markdown",
      "metadata": {
        "id": "ge7GlvSYA43O"
      },
      "source": [
        "# Introduction to Pandas\n",
        "\n",
        "That's about it for today! We hope that you enjoyed putting your skills to the test.\n",
        "\n",
        "Tomorrow, we'll embark on our last full day of lecture content that will discuss data exploration and preliminary analysis. We'll be working with a package called `pandas`, which is a package that extends the array infrastructure provided by `numpy`.\n",
        "\n",
        "> *Another package already?!* 😱<br>\n",
        "Have no fear: all of the conceptual material we covered with `numpy` arrays is transferable to `pandas`. In fact, `pandas` takes care of many of the techniques that were fairly clunky for us to perform with `numpy`, and most people find `pandas` a little more intuitive to work with. We're only going to preview our forthcoming work with `pandas` today.\n",
        "\n",
        "Let's think all the way back to when we first introduced `numpy`: recall that arrays *do* have their limitations. For one, arrays can't contain multiple types. This can be troublesome for scientific data that can't be stored in solely numeric form. Thus, we turn to `pandas`.\n",
        "\n",
        "Like `numpy`, `pandas` is imported with a shorthand **alias** (`pd`), which is used as the prefix for any functions imported via `pandas`.\n",
        "\n"
      ]
    },
    {
      "cell_type": "code",
      "execution_count": 36,
      "metadata": {
        "id": "C5FHiVmvEI9F"
      },
      "outputs": [],
      "source": [
        "# try it out: import pandas with its alias\n",
        "\n",
        "import pandas as pd"
      ]
    },
    {
      "cell_type": "markdown",
      "metadata": {
        "id": "oYMrGHlyS78m"
      },
      "source": [
        "## DataFrames versus arrays\n",
        "\n",
        "`pandas` is a great tool for data manipulation and analysis in Python because of the infrastructure it provides for complex tabular data. Just as `numpy` introduced the array, `pandas` introduces the **DataFrame** (a term familiar to those of you coming from R).\n",
        "\n",
        "DataFrames and arrays are quite similar in many aspects. For one, they can both be used to store rectangular data (rows and columns), and they're both useful for performing vectorized operations. However, DataFrames have several key functions that can make it easier to work with *labeled* data.\n",
        "\n",
        "1. **DataFrames allow mixed types.** Unlike with arrays, you can store strings, integers, numerics, etc. in the same DataFrame.\n",
        "2. **DataFrames supports row and column names**. You can index with row and column names! This can be handy if you know your sample/variable names by heart.\n",
        "3. **DataFrames support easy database-like operations**. Merging, joining, grouping, sorting on a column's values – all possible with `pandas` DataFrames!\n",
        "\n",
        "We'll teach you about the essential `pandas` functions and operations, but if you'd like to know *more* about what you can do with `pandas`, you can read the introduction on the `pandas` documentation [here](https://pandas.pydata.org/pandas-docs/stable/getting_started/overview.html).\n",
        "\n",
        "Let's take a quick look at some data using `pandas`. All of the operations we're showing you will be covered in tomorrow's lecture, so there's no need to commit all of it to memory right now."
      ]
    },
    {
      "cell_type": "markdown",
      "metadata": {
        "id": "XYAqZ4rsEWns"
      },
      "source": [
        "We'll teach you about the essential `pandas` functions and operations, but if you'd like to know *more* about what you can do with `pandas`, you can read the introduction on the `pandas` documentation [here](https://pandas.pydata.org/pandas-docs/stable/getting_started/overview.html).\n",
        "\n",
        "Let's take a quick look at some data using `pandas`. All of the operations we're showing you will be covered in tomorrow's lecture, so there's no need to commit all of it to memory right now."
      ]
    },
    {
      "cell_type": "code",
      "execution_count": 37,
      "metadata": {
        "colab": {
          "base_uri": "https://localhost:8080/",
          "height": 424
        },
        "id": "5aXdUo-6E50q",
        "outputId": "206a401a-1f08-4217-dc03-e5ccb69ae375"
      },
      "outputs": [
        {
          "data": {
            "text/html": [
              "\n",
              "  <div id=\"df-7b776724-0758-46be-92a2-fb5964e7c97b\" class=\"colab-df-container\">\n",
              "    <div>\n",
              "<style scoped>\n",
              "    .dataframe tbody tr th:only-of-type {\n",
              "        vertical-align: middle;\n",
              "    }\n",
              "\n",
              "    .dataframe tbody tr th {\n",
              "        vertical-align: top;\n",
              "    }\n",
              "\n",
              "    .dataframe thead th {\n",
              "        text-align: right;\n",
              "    }\n",
              "</style>\n",
              "<table border=\"1\" class=\"dataframe\">\n",
              "  <thead>\n",
              "    <tr style=\"text-align: right;\">\n",
              "      <th></th>\n",
              "      <th>Ozone</th>\n",
              "      <th>Solar.R</th>\n",
              "      <th>Wind</th>\n",
              "      <th>Temp</th>\n",
              "      <th>Month</th>\n",
              "      <th>Day</th>\n",
              "    </tr>\n",
              "  </thead>\n",
              "  <tbody>\n",
              "    <tr>\n",
              "      <th>0</th>\n",
              "      <td>41.0</td>\n",
              "      <td>190.0</td>\n",
              "      <td>7.4</td>\n",
              "      <td>67</td>\n",
              "      <td>5</td>\n",
              "      <td>1</td>\n",
              "    </tr>\n",
              "    <tr>\n",
              "      <th>1</th>\n",
              "      <td>36.0</td>\n",
              "      <td>118.0</td>\n",
              "      <td>8.0</td>\n",
              "      <td>72</td>\n",
              "      <td>5</td>\n",
              "      <td>2</td>\n",
              "    </tr>\n",
              "    <tr>\n",
              "      <th>2</th>\n",
              "      <td>12.0</td>\n",
              "      <td>149.0</td>\n",
              "      <td>12.6</td>\n",
              "      <td>74</td>\n",
              "      <td>5</td>\n",
              "      <td>3</td>\n",
              "    </tr>\n",
              "    <tr>\n",
              "      <th>3</th>\n",
              "      <td>18.0</td>\n",
              "      <td>313.0</td>\n",
              "      <td>11.5</td>\n",
              "      <td>62</td>\n",
              "      <td>5</td>\n",
              "      <td>4</td>\n",
              "    </tr>\n",
              "    <tr>\n",
              "      <th>4</th>\n",
              "      <td>NaN</td>\n",
              "      <td>NaN</td>\n",
              "      <td>14.3</td>\n",
              "      <td>56</td>\n",
              "      <td>5</td>\n",
              "      <td>5</td>\n",
              "    </tr>\n",
              "    <tr>\n",
              "      <th>...</th>\n",
              "      <td>...</td>\n",
              "      <td>...</td>\n",
              "      <td>...</td>\n",
              "      <td>...</td>\n",
              "      <td>...</td>\n",
              "      <td>...</td>\n",
              "    </tr>\n",
              "    <tr>\n",
              "      <th>148</th>\n",
              "      <td>30.0</td>\n",
              "      <td>193.0</td>\n",
              "      <td>6.9</td>\n",
              "      <td>70</td>\n",
              "      <td>9</td>\n",
              "      <td>26</td>\n",
              "    </tr>\n",
              "    <tr>\n",
              "      <th>149</th>\n",
              "      <td>NaN</td>\n",
              "      <td>145.0</td>\n",
              "      <td>13.2</td>\n",
              "      <td>77</td>\n",
              "      <td>9</td>\n",
              "      <td>27</td>\n",
              "    </tr>\n",
              "    <tr>\n",
              "      <th>150</th>\n",
              "      <td>14.0</td>\n",
              "      <td>191.0</td>\n",
              "      <td>14.3</td>\n",
              "      <td>75</td>\n",
              "      <td>9</td>\n",
              "      <td>28</td>\n",
              "    </tr>\n",
              "    <tr>\n",
              "      <th>151</th>\n",
              "      <td>18.0</td>\n",
              "      <td>131.0</td>\n",
              "      <td>8.0</td>\n",
              "      <td>76</td>\n",
              "      <td>9</td>\n",
              "      <td>29</td>\n",
              "    </tr>\n",
              "    <tr>\n",
              "      <th>152</th>\n",
              "      <td>20.0</td>\n",
              "      <td>223.0</td>\n",
              "      <td>11.5</td>\n",
              "      <td>68</td>\n",
              "      <td>9</td>\n",
              "      <td>30</td>\n",
              "    </tr>\n",
              "  </tbody>\n",
              "</table>\n",
              "<p>153 rows × 6 columns</p>\n",
              "</div>\n",
              "    <div class=\"colab-df-buttons\">\n",
              "\n",
              "  <div class=\"colab-df-container\">\n",
              "    <button class=\"colab-df-convert\" onclick=\"convertToInteractive('df-7b776724-0758-46be-92a2-fb5964e7c97b')\"\n",
              "            title=\"Convert this dataframe to an interactive table.\"\n",
              "            style=\"display:none;\">\n",
              "\n",
              "  <svg xmlns=\"http://www.w3.org/2000/svg\" height=\"24px\" viewBox=\"0 -960 960 960\">\n",
              "    <path d=\"M120-120v-720h720v720H120Zm60-500h600v-160H180v160Zm220 220h160v-160H400v160Zm0 220h160v-160H400v160ZM180-400h160v-160H180v160Zm440 0h160v-160H620v160ZM180-180h160v-160H180v160Zm440 0h160v-160H620v160Z\"/>\n",
              "  </svg>\n",
              "    </button>\n",
              "\n",
              "  <style>\n",
              "    .colab-df-container {\n",
              "      display:flex;\n",
              "      gap: 12px;\n",
              "    }\n",
              "\n",
              "    .colab-df-convert {\n",
              "      background-color: #E8F0FE;\n",
              "      border: none;\n",
              "      border-radius: 50%;\n",
              "      cursor: pointer;\n",
              "      display: none;\n",
              "      fill: #1967D2;\n",
              "      height: 32px;\n",
              "      padding: 0 0 0 0;\n",
              "      width: 32px;\n",
              "    }\n",
              "\n",
              "    .colab-df-convert:hover {\n",
              "      background-color: #E2EBFA;\n",
              "      box-shadow: 0px 1px 2px rgba(60, 64, 67, 0.3), 0px 1px 3px 1px rgba(60, 64, 67, 0.15);\n",
              "      fill: #174EA6;\n",
              "    }\n",
              "\n",
              "    .colab-df-buttons div {\n",
              "      margin-bottom: 4px;\n",
              "    }\n",
              "\n",
              "    [theme=dark] .colab-df-convert {\n",
              "      background-color: #3B4455;\n",
              "      fill: #D2E3FC;\n",
              "    }\n",
              "\n",
              "    [theme=dark] .colab-df-convert:hover {\n",
              "      background-color: #434B5C;\n",
              "      box-shadow: 0px 1px 3px 1px rgba(0, 0, 0, 0.15);\n",
              "      filter: drop-shadow(0px 1px 2px rgba(0, 0, 0, 0.3));\n",
              "      fill: #FFFFFF;\n",
              "    }\n",
              "  </style>\n",
              "\n",
              "    <script>\n",
              "      const buttonEl =\n",
              "        document.querySelector('#df-7b776724-0758-46be-92a2-fb5964e7c97b button.colab-df-convert');\n",
              "      buttonEl.style.display =\n",
              "        google.colab.kernel.accessAllowed ? 'block' : 'none';\n",
              "\n",
              "      async function convertToInteractive(key) {\n",
              "        const element = document.querySelector('#df-7b776724-0758-46be-92a2-fb5964e7c97b');\n",
              "        const dataTable =\n",
              "          await google.colab.kernel.invokeFunction('convertToInteractive',\n",
              "                                                    [key], {});\n",
              "        if (!dataTable) return;\n",
              "\n",
              "        const docLinkHtml = 'Like what you see? Visit the ' +\n",
              "          '<a target=\"_blank\" href=https://colab.research.google.com/notebooks/data_table.ipynb>data table notebook</a>'\n",
              "          + ' to learn more about interactive tables.';\n",
              "        element.innerHTML = '';\n",
              "        dataTable['output_type'] = 'display_data';\n",
              "        await google.colab.output.renderOutput(dataTable, element);\n",
              "        const docLink = document.createElement('div');\n",
              "        docLink.innerHTML = docLinkHtml;\n",
              "        element.appendChild(docLink);\n",
              "      }\n",
              "    </script>\n",
              "  </div>\n",
              "\n",
              "\n",
              "<div id=\"df-2c2c74b1-223b-478a-85b1-584ad2d7eaf9\">\n",
              "  <button class=\"colab-df-quickchart\" onclick=\"quickchart('df-2c2c74b1-223b-478a-85b1-584ad2d7eaf9')\"\n",
              "            title=\"Suggest charts\"\n",
              "            style=\"display:none;\">\n",
              "\n",
              "<svg xmlns=\"http://www.w3.org/2000/svg\" height=\"24px\"viewBox=\"0 0 24 24\"\n",
              "     width=\"24px\">\n",
              "    <g>\n",
              "        <path d=\"M19 3H5c-1.1 0-2 .9-2 2v14c0 1.1.9 2 2 2h14c1.1 0 2-.9 2-2V5c0-1.1-.9-2-2-2zM9 17H7v-7h2v7zm4 0h-2V7h2v10zm4 0h-2v-4h2v4z\"/>\n",
              "    </g>\n",
              "</svg>\n",
              "  </button>\n",
              "\n",
              "<style>\n",
              "  .colab-df-quickchart {\n",
              "      --bg-color: #E8F0FE;\n",
              "      --fill-color: #1967D2;\n",
              "      --hover-bg-color: #E2EBFA;\n",
              "      --hover-fill-color: #174EA6;\n",
              "      --disabled-fill-color: #AAA;\n",
              "      --disabled-bg-color: #DDD;\n",
              "  }\n",
              "\n",
              "  [theme=dark] .colab-df-quickchart {\n",
              "      --bg-color: #3B4455;\n",
              "      --fill-color: #D2E3FC;\n",
              "      --hover-bg-color: #434B5C;\n",
              "      --hover-fill-color: #FFFFFF;\n",
              "      --disabled-bg-color: #3B4455;\n",
              "      --disabled-fill-color: #666;\n",
              "  }\n",
              "\n",
              "  .colab-df-quickchart {\n",
              "    background-color: var(--bg-color);\n",
              "    border: none;\n",
              "    border-radius: 50%;\n",
              "    cursor: pointer;\n",
              "    display: none;\n",
              "    fill: var(--fill-color);\n",
              "    height: 32px;\n",
              "    padding: 0;\n",
              "    width: 32px;\n",
              "  }\n",
              "\n",
              "  .colab-df-quickchart:hover {\n",
              "    background-color: var(--hover-bg-color);\n",
              "    box-shadow: 0 1px 2px rgba(60, 64, 67, 0.3), 0 1px 3px 1px rgba(60, 64, 67, 0.15);\n",
              "    fill: var(--button-hover-fill-color);\n",
              "  }\n",
              "\n",
              "  .colab-df-quickchart-complete:disabled,\n",
              "  .colab-df-quickchart-complete:disabled:hover {\n",
              "    background-color: var(--disabled-bg-color);\n",
              "    fill: var(--disabled-fill-color);\n",
              "    box-shadow: none;\n",
              "  }\n",
              "\n",
              "  .colab-df-spinner {\n",
              "    border: 2px solid var(--fill-color);\n",
              "    border-color: transparent;\n",
              "    border-bottom-color: var(--fill-color);\n",
              "    animation:\n",
              "      spin 1s steps(1) infinite;\n",
              "  }\n",
              "\n",
              "  @keyframes spin {\n",
              "    0% {\n",
              "      border-color: transparent;\n",
              "      border-bottom-color: var(--fill-color);\n",
              "      border-left-color: var(--fill-color);\n",
              "    }\n",
              "    20% {\n",
              "      border-color: transparent;\n",
              "      border-left-color: var(--fill-color);\n",
              "      border-top-color: var(--fill-color);\n",
              "    }\n",
              "    30% {\n",
              "      border-color: transparent;\n",
              "      border-left-color: var(--fill-color);\n",
              "      border-top-color: var(--fill-color);\n",
              "      border-right-color: var(--fill-color);\n",
              "    }\n",
              "    40% {\n",
              "      border-color: transparent;\n",
              "      border-right-color: var(--fill-color);\n",
              "      border-top-color: var(--fill-color);\n",
              "    }\n",
              "    60% {\n",
              "      border-color: transparent;\n",
              "      border-right-color: var(--fill-color);\n",
              "    }\n",
              "    80% {\n",
              "      border-color: transparent;\n",
              "      border-right-color: var(--fill-color);\n",
              "      border-bottom-color: var(--fill-color);\n",
              "    }\n",
              "    90% {\n",
              "      border-color: transparent;\n",
              "      border-bottom-color: var(--fill-color);\n",
              "    }\n",
              "  }\n",
              "</style>\n",
              "\n",
              "  <script>\n",
              "    async function quickchart(key) {\n",
              "      const quickchartButtonEl =\n",
              "        document.querySelector('#' + key + ' button');\n",
              "      quickchartButtonEl.disabled = true;  // To prevent multiple clicks.\n",
              "      quickchartButtonEl.classList.add('colab-df-spinner');\n",
              "      try {\n",
              "        const charts = await google.colab.kernel.invokeFunction(\n",
              "            'suggestCharts', [key], {});\n",
              "      } catch (error) {\n",
              "        console.error('Error during call to suggestCharts:', error);\n",
              "      }\n",
              "      quickchartButtonEl.classList.remove('colab-df-spinner');\n",
              "      quickchartButtonEl.classList.add('colab-df-quickchart-complete');\n",
              "    }\n",
              "    (() => {\n",
              "      let quickchartButtonEl =\n",
              "        document.querySelector('#df-2c2c74b1-223b-478a-85b1-584ad2d7eaf9 button');\n",
              "      quickchartButtonEl.style.display =\n",
              "        google.colab.kernel.accessAllowed ? 'block' : 'none';\n",
              "    })();\n",
              "  </script>\n",
              "</div>\n",
              "    </div>\n",
              "  </div>\n"
            ],
            "text/plain": [
              "     Ozone  Solar.R  Wind  Temp  Month  Day\n",
              "0     41.0    190.0   7.4    67      5    1\n",
              "1     36.0    118.0   8.0    72      5    2\n",
              "2     12.0    149.0  12.6    74      5    3\n",
              "3     18.0    313.0  11.5    62      5    4\n",
              "4      NaN      NaN  14.3    56      5    5\n",
              "..     ...      ...   ...   ...    ...  ...\n",
              "148   30.0    193.0   6.9    70      9   26\n",
              "149    NaN    145.0  13.2    77      9   27\n",
              "150   14.0    191.0  14.3    75      9   28\n",
              "151   18.0    131.0   8.0    76      9   29\n",
              "152   20.0    223.0  11.5    68      9   30\n",
              "\n",
              "[153 rows x 6 columns]"
            ]
          },
          "execution_count": 37,
          "metadata": {},
          "output_type": "execute_result"
        }
      ],
      "source": [
        "# importing data\n",
        "\n",
        "airquality_df = pd.read_csv('/content/pythonbootcamp/day_3/airquality.csv').drop('Unnamed: 0', axis = 1)\n",
        "airquality_df"
      ]
    },
    {
      "cell_type": "markdown",
      "metadata": {
        "id": "u-bgREA8RaxX"
      },
      "source": [
        "This is the `airquality` dataset we worked with earlier today, but imported into a `pandas` DataFrame. The first thing you'll notice is that the display of the data is quite different, compared to an array.\n",
        "\n",
        "Next, you'll probably notice that the columns in this table have names, and the rows have numbers: DataFrames operate using these **labels** as indices, rather than the strict numerical indices we've been using so far. This is *especially* useful for columns!"
      ]
    },
    {
      "cell_type": "code",
      "execution_count": 38,
      "metadata": {
        "colab": {
          "base_uri": "https://localhost:8080/",
          "height": 444
        },
        "id": "NYKpaZAHSVBj",
        "outputId": "fe027788-1152-479a-c317-b23f81abe646"
      },
      "outputs": [
        {
          "data": {
            "text/html": [
              "\n",
              "  <div id=\"df-db5de0be-b82b-4d70-bb56-ecaa78c034ed\" class=\"colab-df-container\">\n",
              "    <div>\n",
              "<style scoped>\n",
              "    .dataframe tbody tr th:only-of-type {\n",
              "        vertical-align: middle;\n",
              "    }\n",
              "\n",
              "    .dataframe tbody tr th {\n",
              "        vertical-align: top;\n",
              "    }\n",
              "\n",
              "    .dataframe thead th {\n",
              "        text-align: right;\n",
              "    }\n",
              "</style>\n",
              "<table border=\"1\" class=\"dataframe\">\n",
              "  <thead>\n",
              "    <tr style=\"text-align: right;\">\n",
              "      <th></th>\n",
              "      <th>Number</th>\n",
              "      <th>Age</th>\n",
              "      <th>Gender</th>\n",
              "      <th>HBsAg</th>\n",
              "      <th>Cirrhosis</th>\n",
              "      <th>ALT</th>\n",
              "      <th>AST</th>\n",
              "      <th>AFP</th>\n",
              "      <th>Tumorsize</th>\n",
              "      <th>Tumordifferentiation</th>\n",
              "      <th>...</th>\n",
              "      <th>CD15NR</th>\n",
              "      <th>CD68NR</th>\n",
              "      <th>CD4TR</th>\n",
              "      <th>CD8TR</th>\n",
              "      <th>CD20TR</th>\n",
              "      <th>CD57TR</th>\n",
              "      <th>CD15TR</th>\n",
              "      <th>CD68TR</th>\n",
              "      <th>Ki67</th>\n",
              "      <th>CD34</th>\n",
              "    </tr>\n",
              "  </thead>\n",
              "  <tbody>\n",
              "    <tr>\n",
              "      <th>0</th>\n",
              "      <td>1</td>\n",
              "      <td>57</td>\n",
              "      <td>0</td>\n",
              "      <td>1</td>\n",
              "      <td>1</td>\n",
              "      <td>1</td>\n",
              "      <td>2</td>\n",
              "      <td>2</td>\n",
              "      <td>2</td>\n",
              "      <td>1</td>\n",
              "      <td>...</td>\n",
              "      <td>0.111451</td>\n",
              "      <td>0.235027</td>\n",
              "      <td>0.007422</td>\n",
              "      <td>0.544119</td>\n",
              "      <td>0.059807</td>\n",
              "      <td>0.045277</td>\n",
              "      <td>0.207827</td>\n",
              "      <td>0.135548</td>\n",
              "      <td>6.043500</td>\n",
              "      <td>57079.5</td>\n",
              "    </tr>\n",
              "    <tr>\n",
              "      <th>1</th>\n",
              "      <td>2</td>\n",
              "      <td>58</td>\n",
              "      <td>1</td>\n",
              "      <td>0</td>\n",
              "      <td>0</td>\n",
              "      <td>1</td>\n",
              "      <td>1</td>\n",
              "      <td>2</td>\n",
              "      <td>1</td>\n",
              "      <td>1</td>\n",
              "      <td>...</td>\n",
              "      <td>NaN</td>\n",
              "      <td>NaN</td>\n",
              "      <td>NaN</td>\n",
              "      <td>NaN</td>\n",
              "      <td>NaN</td>\n",
              "      <td>NaN</td>\n",
              "      <td>NaN</td>\n",
              "      <td>NaN</td>\n",
              "      <td>NaN</td>\n",
              "      <td>NaN</td>\n",
              "    </tr>\n",
              "    <tr>\n",
              "      <th>2</th>\n",
              "      <td>3</td>\n",
              "      <td>65</td>\n",
              "      <td>1</td>\n",
              "      <td>0</td>\n",
              "      <td>0</td>\n",
              "      <td>1</td>\n",
              "      <td>1</td>\n",
              "      <td>2</td>\n",
              "      <td>2</td>\n",
              "      <td>2</td>\n",
              "      <td>...</td>\n",
              "      <td>NaN</td>\n",
              "      <td>NaN</td>\n",
              "      <td>NaN</td>\n",
              "      <td>NaN</td>\n",
              "      <td>NaN</td>\n",
              "      <td>NaN</td>\n",
              "      <td>NaN</td>\n",
              "      <td>NaN</td>\n",
              "      <td>NaN</td>\n",
              "      <td>NaN</td>\n",
              "    </tr>\n",
              "    <tr>\n",
              "      <th>3</th>\n",
              "      <td>4</td>\n",
              "      <td>54</td>\n",
              "      <td>1</td>\n",
              "      <td>1</td>\n",
              "      <td>0</td>\n",
              "      <td>2</td>\n",
              "      <td>1</td>\n",
              "      <td>2</td>\n",
              "      <td>2</td>\n",
              "      <td>2</td>\n",
              "      <td>...</td>\n",
              "      <td>NaN</td>\n",
              "      <td>NaN</td>\n",
              "      <td>NaN</td>\n",
              "      <td>NaN</td>\n",
              "      <td>NaN</td>\n",
              "      <td>NaN</td>\n",
              "      <td>NaN</td>\n",
              "      <td>NaN</td>\n",
              "      <td>NaN</td>\n",
              "      <td>NaN</td>\n",
              "    </tr>\n",
              "    <tr>\n",
              "      <th>4</th>\n",
              "      <td>5</td>\n",
              "      <td>71</td>\n",
              "      <td>1</td>\n",
              "      <td>1</td>\n",
              "      <td>0</td>\n",
              "      <td>2</td>\n",
              "      <td>2</td>\n",
              "      <td>2</td>\n",
              "      <td>2</td>\n",
              "      <td>2</td>\n",
              "      <td>...</td>\n",
              "      <td>NaN</td>\n",
              "      <td>NaN</td>\n",
              "      <td>NaN</td>\n",
              "      <td>NaN</td>\n",
              "      <td>NaN</td>\n",
              "      <td>NaN</td>\n",
              "      <td>NaN</td>\n",
              "      <td>NaN</td>\n",
              "      <td>NaN</td>\n",
              "      <td>NaN</td>\n",
              "    </tr>\n",
              "    <tr>\n",
              "      <th>...</th>\n",
              "      <td>...</td>\n",
              "      <td>...</td>\n",
              "      <td>...</td>\n",
              "      <td>...</td>\n",
              "      <td>...</td>\n",
              "      <td>...</td>\n",
              "      <td>...</td>\n",
              "      <td>...</td>\n",
              "      <td>...</td>\n",
              "      <td>...</td>\n",
              "      <td>...</td>\n",
              "      <td>...</td>\n",
              "      <td>...</td>\n",
              "      <td>...</td>\n",
              "      <td>...</td>\n",
              "      <td>...</td>\n",
              "      <td>...</td>\n",
              "      <td>...</td>\n",
              "      <td>...</td>\n",
              "      <td>...</td>\n",
              "      <td>...</td>\n",
              "    </tr>\n",
              "    <tr>\n",
              "      <th>222</th>\n",
              "      <td>223</td>\n",
              "      <td>58</td>\n",
              "      <td>1</td>\n",
              "      <td>1</td>\n",
              "      <td>0</td>\n",
              "      <td>1</td>\n",
              "      <td>1</td>\n",
              "      <td>1</td>\n",
              "      <td>1</td>\n",
              "      <td>1</td>\n",
              "      <td>...</td>\n",
              "      <td>NaN</td>\n",
              "      <td>NaN</td>\n",
              "      <td>NaN</td>\n",
              "      <td>NaN</td>\n",
              "      <td>NaN</td>\n",
              "      <td>NaN</td>\n",
              "      <td>NaN</td>\n",
              "      <td>NaN</td>\n",
              "      <td>NaN</td>\n",
              "      <td>NaN</td>\n",
              "    </tr>\n",
              "    <tr>\n",
              "      <th>223</th>\n",
              "      <td>224</td>\n",
              "      <td>48</td>\n",
              "      <td>1</td>\n",
              "      <td>1</td>\n",
              "      <td>1</td>\n",
              "      <td>1</td>\n",
              "      <td>1</td>\n",
              "      <td>2</td>\n",
              "      <td>2</td>\n",
              "      <td>2</td>\n",
              "      <td>...</td>\n",
              "      <td>0.084458</td>\n",
              "      <td>0.324559</td>\n",
              "      <td>0.108044</td>\n",
              "      <td>0.365697</td>\n",
              "      <td>0.074588</td>\n",
              "      <td>0.019552</td>\n",
              "      <td>0.119485</td>\n",
              "      <td>0.312634</td>\n",
              "      <td>104.554800</td>\n",
              "      <td>60457.0</td>\n",
              "    </tr>\n",
              "    <tr>\n",
              "      <th>224</th>\n",
              "      <td>225</td>\n",
              "      <td>40</td>\n",
              "      <td>0</td>\n",
              "      <td>1</td>\n",
              "      <td>1</td>\n",
              "      <td>1</td>\n",
              "      <td>1</td>\n",
              "      <td>2</td>\n",
              "      <td>1</td>\n",
              "      <td>2</td>\n",
              "      <td>...</td>\n",
              "      <td>0.045786</td>\n",
              "      <td>0.799157</td>\n",
              "      <td>0.264312</td>\n",
              "      <td>0.138443</td>\n",
              "      <td>0.018459</td>\n",
              "      <td>0.041467</td>\n",
              "      <td>0.067148</td>\n",
              "      <td>0.470171</td>\n",
              "      <td>90.028900</td>\n",
              "      <td>144.5</td>\n",
              "    </tr>\n",
              "    <tr>\n",
              "      <th>225</th>\n",
              "      <td>226</td>\n",
              "      <td>58</td>\n",
              "      <td>0</td>\n",
              "      <td>1</td>\n",
              "      <td>1</td>\n",
              "      <td>2</td>\n",
              "      <td>2</td>\n",
              "      <td>2</td>\n",
              "      <td>1</td>\n",
              "      <td>1</td>\n",
              "      <td>...</td>\n",
              "      <td>0.026103</td>\n",
              "      <td>0.769967</td>\n",
              "      <td>0.058037</td>\n",
              "      <td>0.092402</td>\n",
              "      <td>0.069492</td>\n",
              "      <td>0.034364</td>\n",
              "      <td>0.058419</td>\n",
              "      <td>0.687285</td>\n",
              "      <td>72.008900</td>\n",
              "      <td>24614.0</td>\n",
              "    </tr>\n",
              "    <tr>\n",
              "      <th>226</th>\n",
              "      <td>227</td>\n",
              "      <td>46</td>\n",
              "      <td>1</td>\n",
              "      <td>1</td>\n",
              "      <td>0</td>\n",
              "      <td>2</td>\n",
              "      <td>2</td>\n",
              "      <td>2</td>\n",
              "      <td>2</td>\n",
              "      <td>2</td>\n",
              "      <td>...</td>\n",
              "      <td>0.226816</td>\n",
              "      <td>0.504822</td>\n",
              "      <td>0.025905</td>\n",
              "      <td>0.165770</td>\n",
              "      <td>0.086832</td>\n",
              "      <td>0.042171</td>\n",
              "      <td>0.030361</td>\n",
              "      <td>0.648961</td>\n",
              "      <td>51.142311</td>\n",
              "      <td>25607.5</td>\n",
              "    </tr>\n",
              "  </tbody>\n",
              "</table>\n",
              "<p>227 rows × 48 columns</p>\n",
              "</div>\n",
              "    <div class=\"colab-df-buttons\">\n",
              "\n",
              "  <div class=\"colab-df-container\">\n",
              "    <button class=\"colab-df-convert\" onclick=\"convertToInteractive('df-db5de0be-b82b-4d70-bb56-ecaa78c034ed')\"\n",
              "            title=\"Convert this dataframe to an interactive table.\"\n",
              "            style=\"display:none;\">\n",
              "\n",
              "  <svg xmlns=\"http://www.w3.org/2000/svg\" height=\"24px\" viewBox=\"0 -960 960 960\">\n",
              "    <path d=\"M120-120v-720h720v720H120Zm60-500h600v-160H180v160Zm220 220h160v-160H400v160Zm0 220h160v-160H400v160ZM180-400h160v-160H180v160Zm440 0h160v-160H620v160ZM180-180h160v-160H180v160Zm440 0h160v-160H620v160Z\"/>\n",
              "  </svg>\n",
              "    </button>\n",
              "\n",
              "  <style>\n",
              "    .colab-df-container {\n",
              "      display:flex;\n",
              "      gap: 12px;\n",
              "    }\n",
              "\n",
              "    .colab-df-convert {\n",
              "      background-color: #E8F0FE;\n",
              "      border: none;\n",
              "      border-radius: 50%;\n",
              "      cursor: pointer;\n",
              "      display: none;\n",
              "      fill: #1967D2;\n",
              "      height: 32px;\n",
              "      padding: 0 0 0 0;\n",
              "      width: 32px;\n",
              "    }\n",
              "\n",
              "    .colab-df-convert:hover {\n",
              "      background-color: #E2EBFA;\n",
              "      box-shadow: 0px 1px 2px rgba(60, 64, 67, 0.3), 0px 1px 3px 1px rgba(60, 64, 67, 0.15);\n",
              "      fill: #174EA6;\n",
              "    }\n",
              "\n",
              "    .colab-df-buttons div {\n",
              "      margin-bottom: 4px;\n",
              "    }\n",
              "\n",
              "    [theme=dark] .colab-df-convert {\n",
              "      background-color: #3B4455;\n",
              "      fill: #D2E3FC;\n",
              "    }\n",
              "\n",
              "    [theme=dark] .colab-df-convert:hover {\n",
              "      background-color: #434B5C;\n",
              "      box-shadow: 0px 1px 3px 1px rgba(0, 0, 0, 0.15);\n",
              "      filter: drop-shadow(0px 1px 2px rgba(0, 0, 0, 0.3));\n",
              "      fill: #FFFFFF;\n",
              "    }\n",
              "  </style>\n",
              "\n",
              "    <script>\n",
              "      const buttonEl =\n",
              "        document.querySelector('#df-db5de0be-b82b-4d70-bb56-ecaa78c034ed button.colab-df-convert');\n",
              "      buttonEl.style.display =\n",
              "        google.colab.kernel.accessAllowed ? 'block' : 'none';\n",
              "\n",
              "      async function convertToInteractive(key) {\n",
              "        const element = document.querySelector('#df-db5de0be-b82b-4d70-bb56-ecaa78c034ed');\n",
              "        const dataTable =\n",
              "          await google.colab.kernel.invokeFunction('convertToInteractive',\n",
              "                                                    [key], {});\n",
              "        if (!dataTable) return;\n",
              "\n",
              "        const docLinkHtml = 'Like what you see? Visit the ' +\n",
              "          '<a target=\"_blank\" href=https://colab.research.google.com/notebooks/data_table.ipynb>data table notebook</a>'\n",
              "          + ' to learn more about interactive tables.';\n",
              "        element.innerHTML = '';\n",
              "        dataTable['output_type'] = 'display_data';\n",
              "        await google.colab.output.renderOutput(dataTable, element);\n",
              "        const docLink = document.createElement('div');\n",
              "        docLink.innerHTML = docLinkHtml;\n",
              "        element.appendChild(docLink);\n",
              "      }\n",
              "    </script>\n",
              "  </div>\n",
              "\n",
              "\n",
              "<div id=\"df-ad02f766-6fef-46a2-994e-36c8d0655687\">\n",
              "  <button class=\"colab-df-quickchart\" onclick=\"quickchart('df-ad02f766-6fef-46a2-994e-36c8d0655687')\"\n",
              "            title=\"Suggest charts\"\n",
              "            style=\"display:none;\">\n",
              "\n",
              "<svg xmlns=\"http://www.w3.org/2000/svg\" height=\"24px\"viewBox=\"0 0 24 24\"\n",
              "     width=\"24px\">\n",
              "    <g>\n",
              "        <path d=\"M19 3H5c-1.1 0-2 .9-2 2v14c0 1.1.9 2 2 2h14c1.1 0 2-.9 2-2V5c0-1.1-.9-2-2-2zM9 17H7v-7h2v7zm4 0h-2V7h2v10zm4 0h-2v-4h2v4z\"/>\n",
              "    </g>\n",
              "</svg>\n",
              "  </button>\n",
              "\n",
              "<style>\n",
              "  .colab-df-quickchart {\n",
              "      --bg-color: #E8F0FE;\n",
              "      --fill-color: #1967D2;\n",
              "      --hover-bg-color: #E2EBFA;\n",
              "      --hover-fill-color: #174EA6;\n",
              "      --disabled-fill-color: #AAA;\n",
              "      --disabled-bg-color: #DDD;\n",
              "  }\n",
              "\n",
              "  [theme=dark] .colab-df-quickchart {\n",
              "      --bg-color: #3B4455;\n",
              "      --fill-color: #D2E3FC;\n",
              "      --hover-bg-color: #434B5C;\n",
              "      --hover-fill-color: #FFFFFF;\n",
              "      --disabled-bg-color: #3B4455;\n",
              "      --disabled-fill-color: #666;\n",
              "  }\n",
              "\n",
              "  .colab-df-quickchart {\n",
              "    background-color: var(--bg-color);\n",
              "    border: none;\n",
              "    border-radius: 50%;\n",
              "    cursor: pointer;\n",
              "    display: none;\n",
              "    fill: var(--fill-color);\n",
              "    height: 32px;\n",
              "    padding: 0;\n",
              "    width: 32px;\n",
              "  }\n",
              "\n",
              "  .colab-df-quickchart:hover {\n",
              "    background-color: var(--hover-bg-color);\n",
              "    box-shadow: 0 1px 2px rgba(60, 64, 67, 0.3), 0 1px 3px 1px rgba(60, 64, 67, 0.15);\n",
              "    fill: var(--button-hover-fill-color);\n",
              "  }\n",
              "\n",
              "  .colab-df-quickchart-complete:disabled,\n",
              "  .colab-df-quickchart-complete:disabled:hover {\n",
              "    background-color: var(--disabled-bg-color);\n",
              "    fill: var(--disabled-fill-color);\n",
              "    box-shadow: none;\n",
              "  }\n",
              "\n",
              "  .colab-df-spinner {\n",
              "    border: 2px solid var(--fill-color);\n",
              "    border-color: transparent;\n",
              "    border-bottom-color: var(--fill-color);\n",
              "    animation:\n",
              "      spin 1s steps(1) infinite;\n",
              "  }\n",
              "\n",
              "  @keyframes spin {\n",
              "    0% {\n",
              "      border-color: transparent;\n",
              "      border-bottom-color: var(--fill-color);\n",
              "      border-left-color: var(--fill-color);\n",
              "    }\n",
              "    20% {\n",
              "      border-color: transparent;\n",
              "      border-left-color: var(--fill-color);\n",
              "      border-top-color: var(--fill-color);\n",
              "    }\n",
              "    30% {\n",
              "      border-color: transparent;\n",
              "      border-left-color: var(--fill-color);\n",
              "      border-top-color: var(--fill-color);\n",
              "      border-right-color: var(--fill-color);\n",
              "    }\n",
              "    40% {\n",
              "      border-color: transparent;\n",
              "      border-right-color: var(--fill-color);\n",
              "      border-top-color: var(--fill-color);\n",
              "    }\n",
              "    60% {\n",
              "      border-color: transparent;\n",
              "      border-right-color: var(--fill-color);\n",
              "    }\n",
              "    80% {\n",
              "      border-color: transparent;\n",
              "      border-right-color: var(--fill-color);\n",
              "      border-bottom-color: var(--fill-color);\n",
              "    }\n",
              "    90% {\n",
              "      border-color: transparent;\n",
              "      border-bottom-color: var(--fill-color);\n",
              "    }\n",
              "  }\n",
              "</style>\n",
              "\n",
              "  <script>\n",
              "    async function quickchart(key) {\n",
              "      const quickchartButtonEl =\n",
              "        document.querySelector('#' + key + ' button');\n",
              "      quickchartButtonEl.disabled = true;  // To prevent multiple clicks.\n",
              "      quickchartButtonEl.classList.add('colab-df-spinner');\n",
              "      try {\n",
              "        const charts = await google.colab.kernel.invokeFunction(\n",
              "            'suggestCharts', [key], {});\n",
              "      } catch (error) {\n",
              "        console.error('Error during call to suggestCharts:', error);\n",
              "      }\n",
              "      quickchartButtonEl.classList.remove('colab-df-spinner');\n",
              "      quickchartButtonEl.classList.add('colab-df-quickchart-complete');\n",
              "    }\n",
              "    (() => {\n",
              "      let quickchartButtonEl =\n",
              "        document.querySelector('#df-ad02f766-6fef-46a2-994e-36c8d0655687 button');\n",
              "      quickchartButtonEl.style.display =\n",
              "        google.colab.kernel.accessAllowed ? 'block' : 'none';\n",
              "    })();\n",
              "  </script>\n",
              "</div>\n",
              "    </div>\n",
              "  </div>\n"
            ],
            "text/plain": [
              "     Number  Age  Gender  HBsAg  Cirrhosis  ALT  AST  AFP  Tumorsize  \\\n",
              "0         1   57       0      1          1    1    2    2          2   \n",
              "1         2   58       1      0          0    1    1    2          1   \n",
              "2         3   65       1      0          0    1    1    2          2   \n",
              "3         4   54       1      1          0    2    1    2          2   \n",
              "4         5   71       1      1          0    2    2    2          2   \n",
              "..      ...  ...     ...    ...        ...  ...  ...  ...        ...   \n",
              "222     223   58       1      1          0    1    1    1          1   \n",
              "223     224   48       1      1          1    1    1    2          2   \n",
              "224     225   40       0      1          1    1    1    2          1   \n",
              "225     226   58       0      1          1    2    2    2          1   \n",
              "226     227   46       1      1          0    2    2    2          2   \n",
              "\n",
              "     Tumordifferentiation  ...    CD15NR    CD68NR     CD4TR     CD8TR  \\\n",
              "0                       1  ...  0.111451  0.235027  0.007422  0.544119   \n",
              "1                       1  ...       NaN       NaN       NaN       NaN   \n",
              "2                       2  ...       NaN       NaN       NaN       NaN   \n",
              "3                       2  ...       NaN       NaN       NaN       NaN   \n",
              "4                       2  ...       NaN       NaN       NaN       NaN   \n",
              "..                    ...  ...       ...       ...       ...       ...   \n",
              "222                     1  ...       NaN       NaN       NaN       NaN   \n",
              "223                     2  ...  0.084458  0.324559  0.108044  0.365697   \n",
              "224                     2  ...  0.045786  0.799157  0.264312  0.138443   \n",
              "225                     1  ...  0.026103  0.769967  0.058037  0.092402   \n",
              "226                     2  ...  0.226816  0.504822  0.025905  0.165770   \n",
              "\n",
              "       CD20TR    CD57TR    CD15TR    CD68TR        Ki67     CD34  \n",
              "0    0.059807  0.045277  0.207827  0.135548    6.043500  57079.5  \n",
              "1         NaN       NaN       NaN       NaN         NaN      NaN  \n",
              "2         NaN       NaN       NaN       NaN         NaN      NaN  \n",
              "3         NaN       NaN       NaN       NaN         NaN      NaN  \n",
              "4         NaN       NaN       NaN       NaN         NaN      NaN  \n",
              "..        ...       ...       ...       ...         ...      ...  \n",
              "222       NaN       NaN       NaN       NaN         NaN      NaN  \n",
              "223  0.074588  0.019552  0.119485  0.312634  104.554800  60457.0  \n",
              "224  0.018459  0.041467  0.067148  0.470171   90.028900    144.5  \n",
              "225  0.069492  0.034364  0.058419  0.687285   72.008900  24614.0  \n",
              "226  0.086832  0.042171  0.030361  0.648961   51.142311  25607.5  \n",
              "\n",
              "[227 rows x 48 columns]"
            ]
          },
          "execution_count": 38,
          "metadata": {},
          "output_type": "execute_result"
        }
      ],
      "source": [
        "hepatocellular_df = pd.read_csv('/content/pythonbootcamp/day_3/hepatoCellular.csv').drop('Unnamed: 0', axis = 1)\n",
        "hepatocellular_df"
      ]
    },
    {
      "cell_type": "markdown",
      "metadata": {
        "id": "lo3eHO5aSdjy"
      },
      "source": [
        "Look at all those columns! With DataFrames, you won't need to worry about constantly referring to index lists for datasets like `hepatocellular` that contain dozens of columns."
      ]
    },
    {
      "cell_type": "code",
      "execution_count": 39,
      "metadata": {
        "colab": {
          "base_uri": "https://localhost:8080/"
        },
        "id": "1v-ES7D1R8oJ",
        "outputId": "70d273d7-015d-41d7-8819-19c739fa5940"
      },
      "outputs": [
        {
          "data": {
            "text/plain": [
              "array([1.13947238e+02, 5.40715419e+01, 2.21888312e+01, 8.44280931e+00,\n",
              "       8.27113133e+00, 1.37080729e+01, 5.53292635e+00, 6.50827306e+00,\n",
              "       1.54344318e+00, 7.77604057e+00, 8.39265887e+00, 2.56829205e+01,\n",
              "       4.58588540e+01, 4.73032997e+00, 1.27026251e+00, 2.10100779e+00,\n",
              "       1.93335340e+01, 6.50716576e+01, 1.09267221e+01, 4.38579544e+02,\n",
              "       4.15224032e+01, 7.33676047e+01, 4.18260135e+00, 9.42692775e+00,\n",
              "       6.19840721e-01, 4.09313752e+00, 3.17068564e-01, 9.42580508e+00,\n",
              "       1.26038915e+02, 7.74570368e+01, 1.56431523e+02, 5.23580225e+01,\n",
              "       2.82502136e+00, 1.39230840e+00, 7.43131106e-01, 4.77911332e+00,\n",
              "       2.75051839e+00, 5.38094400e+00, 7.93056001e+01, 1.11987688e+01,\n",
              "       1.33659003e+01, 8.54302119e+01, 7.83947031e+00, 2.07126383e+01,\n",
              "       7.38864953e+00, 1.68907806e+00, 3.39008430e+02, 0.00000000e+00,\n",
              "       1.48325157e+00, 2.88134693e+00, 2.20216713e+00, 6.84787196e+01,\n",
              "       2.25865934e+01, 9.28504712e+01, 3.34306594e+01, 7.29863958e-01,\n",
              "       7.12924141e+01, 4.56883737e+01, 1.27024383e+02, 1.11235533e+02,\n",
              "       2.99724272e+02, 1.35547056e+02, 2.75202544e+01, 3.99691553e+02,\n",
              "       1.06781694e+02, 3.66582171e+01, 1.06224128e+03, 6.49790700e+01,\n",
              "       2.47206012e+02, 1.07028096e+00, 9.84968037e+01, 7.96835258e+00,\n",
              "       9.71996302e+01, 3.87555290e+01, 2.39553663e+02, 4.94067388e+00,\n",
              "       1.18443430e+03, 7.83782978e+00, 4.23009256e+00, 7.28932762e+01,\n",
              "       2.52108127e+01, 1.72786431e+01, 7.18819464e+00, 2.27177742e+02,\n",
              "       4.20156924e+02, 4.03937900e+01, 1.64593001e+01, 5.17217312e+02,\n",
              "       1.06388150e+02, 1.39422748e+02, 2.38873028e+01, 7.46954062e+00,\n",
              "       1.70614585e+02, 1.59130161e+01, 5.69118900e+01, 6.91480795e+01,\n",
              "       4.08990132e+00, 2.93554084e+00, 6.48510067e+00, 9.41655358e+00,\n",
              "       2.28853901e+02, 7.18822388e+00, 1.79748552e+01, 2.25846540e+01,\n",
              "       2.16775502e+02, 2.47044461e+00, 3.88758947e+01, 3.90230777e+02,\n",
              "       6.57584933e-01, 6.21018165e+02, 0.00000000e+00, 9.63549297e+01,\n",
              "       4.77939816e+02, 7.26404067e+01, 2.08216452e+02, 1.45493225e+01,\n",
              "       2.63750987e+02, 2.07113042e+02, 1.75308553e+02, 1.78332075e+02,\n",
              "       2.12162963e+02, 9.59066169e+01, 2.20458159e+02, 7.97325039e+01,\n",
              "       1.38502929e+00, 8.78308189e+00, 2.31438590e+02, 8.98898437e+02,\n",
              "       3.68091886e+01, 5.70611200e+02, 6.38506487e+01, 3.35741424e+02,\n",
              "       2.52247139e+02, 8.19799135e+02, 1.67098759e+01, 7.53484156e+01,\n",
              "       1.52467621e+02, 2.40410037e+01, 3.95064934e+02, 2.51798791e+02,\n",
              "       1.03274923e+02, 2.72530468e+02, 7.73858166e+01, 2.49463394e+02,\n",
              "       8.10018227e+02, 1.64718195e+02, 4.79346409e+01, 8.44199666e+01,\n",
              "       1.23301539e+01, 4.80092283e+02, 7.60082882e+01, 1.73858502e+02,\n",
              "       7.63556117e+00, 9.60455588e+00, 1.63772262e+00, 4.15425874e+02,\n",
              "       1.83161184e+02, 4.15647601e+02, 2.12318205e+00, 7.52487964e+00,\n",
              "       9.49319673e+01, 9.85472555e+01, 5.55548972e+02, 1.09255275e+01,\n",
              "       4.16286748e+00, 5.74819256e+00, 1.41289351e+00, 6.95529055e+00,\n",
              "       5.61272479e+01, 1.62446698e+01, 4.76361199e+00, 2.53050099e+02,\n",
              "       4.30291667e+00, 5.17117967e+00, 9.49009134e+00, 2.58498981e+01,\n",
              "       7.02315732e-01, 3.06719661e+00, 2.51922837e+01, 6.39093421e-01,\n",
              "       5.19694049e+00, 3.42299403e+00, 2.49927709e+01, 5.23281687e+00,\n",
              "       1.38288783e+01, 1.55274226e+00, 3.94090670e+00, 7.69916294e+00,\n",
              "       1.07316371e+01, 5.59405917e+02, 4.91070746e+00, 9.38217751e+00,\n",
              "       8.49943524e+00, 1.64952911e+00, 3.00027156e+00, 2.57894935e-01,\n",
              "       1.42243980e+00, 9.30539447e+01, 1.59827620e+01, 1.78366328e+00,\n",
              "       7.36302034e-01, 1.98239821e+00, 7.34760073e-01, 5.42368797e+00,\n",
              "       5.00718445e+01, 2.16145078e+01, 2.33078759e+01, 1.29162256e+01,\n",
              "       1.32665794e+00, 2.19365568e+00, 5.62212596e+01, 6.22222851e+01,\n",
              "       3.42251672e+00, 1.40686915e+00, 2.39160149e+00, 2.09162246e+00,\n",
              "       2.61268296e+00, 1.03213613e+00, 2.58968674e+01, 1.33931842e+01,\n",
              "       4.31199540e+01, 1.29072954e+01, 1.17749726e+01, 3.56697323e+01,\n",
              "       5.18994347e+00, 6.84551307e+00, 1.03697016e+00])"
            ]
          },
          "execution_count": 39,
          "metadata": {},
          "output_type": "execute_result"
        }
      ],
      "source": [
        "# before, if we wanted CXCL17T expression\n",
        "hepatocellular[:,19]"
      ]
    },
    {
      "cell_type": "code",
      "execution_count": 40,
      "metadata": {
        "colab": {
          "base_uri": "https://localhost:8080/"
        },
        "id": "c5qtgiTFSEXl",
        "outputId": "9b411217-9260-431a-e4e1-41c5964c405e"
      },
      "outputs": [
        {
          "data": {
            "text/plain": [
              "0      113.947238\n",
              "1       54.071542\n",
              "2       22.188831\n",
              "3        8.442809\n",
              "4        8.271131\n",
              "          ...    \n",
              "222     11.774973\n",
              "223     35.669732\n",
              "224      5.189943\n",
              "225      6.845513\n",
              "226      1.036970\n",
              "Name: CXCL17T, Length: 227, dtype: float64"
            ]
          },
          "execution_count": 40,
          "metadata": {},
          "output_type": "execute_result"
        }
      ],
      "source": [
        "# if we want to examine CXCL17T expression in our DataFrame\n",
        "hepatocellular_df['CXCL17T']"
      ]
    },
    {
      "cell_type": "markdown",
      "metadata": {
        "id": "_klT99sZSN5v"
      },
      "source": [
        "Hopefully this is starting to show you some of the motivation behind `pandas` and DataFrames! By the end of the week, you'll be well-prepared to use `numpy`, `pandas`, and `pyplot` to analyze *your* particular data. We'll have TAs on staff during the Friday afternoon session to discuss future directions for your Python analyses."
      ]
    },
    {
      "cell_type": "markdown",
      "metadata": {
        "id": "EtzY5548Qn0U"
      },
      "source": [
        "# [Optional] Saving your arrays to external files\n",
        "\n",
        "`numpy` also provides a utility function called `np.savetxt()` that saves arrays to external files. We won't be using it in the remainder of the bootcamp (`pandas` has superior file input/output functions for mixed-type data), but it may be useful if you work with solely numerical data.\n",
        "\n",
        "`np.savetxt()` takes three key inputs:\n",
        "1. A file name.\n",
        "2. The array of interest.\n",
        "3. A `delimiter` string."
      ]
    },
    {
      "cell_type": "code",
      "execution_count": 41,
      "metadata": {
        "colab": {
          "base_uri": "https://localhost:8080/"
        },
        "id": "gV4tfZYfQnRp",
        "outputId": "0704c564-0793-4fef-9fe9-5cb1d78d835f"
      },
      "outputs": [
        {
          "data": {
            "text/plain": [
              "array([[ 10.        , 264.        ,  14.3       ,  73.        ,\n",
              "          7.        ,  12.        ],\n",
              "       [ 14.        , 274.        ,  10.9       ,  68.        ,\n",
              "          5.        ,  14.        ],\n",
              "       [ 42.12931034,  66.        ,  16.6       ,  57.        ,\n",
              "          5.        ,  25.        ],\n",
              "       [ 42.12931034, 242.        ,  16.1       ,  67.        ,\n",
              "          6.        ,   3.        ],\n",
              "       [ 42.12931034, 322.        ,  11.5       ,  79.        ,\n",
              "          6.        ,  15.        ]])"
            ]
          },
          "execution_count": 41,
          "metadata": {},
          "output_type": "execute_result"
        }
      ],
      "source": [
        "# let's sample 5 random rows from airquality\n",
        "\n",
        "rng = np.random.default_rng(2023) # this time, using a seed value for reproducibility\n",
        "random_airquality = rng.choice(airquality, 5)\n",
        "random_airquality"
      ]
    },
    {
      "cell_type": "code",
      "execution_count": 42,
      "metadata": {
        "id": "Zg77LO5nTNLt"
      },
      "outputs": [],
      "source": [
        "# now let's save random_airquality as a comma-separated value file\n",
        "np.savetxt('random_airquality.csv', random_airquality, delimiter = ',')"
      ]
    },
    {
      "cell_type": "markdown",
      "metadata": {
        "id": "3TPs58j-Tp3l"
      },
      "source": [
        "Go to the left hand panel of the Colab notebook and click on the folder icon at the bottom of the panel. This will bring you to Colab's `Files` menu. You should see a file called `random_airquality.csv`: if you hover over it and click the menu with three dots, you can obtain the file path (if you want to import it again) or download the file.\n",
        "___\n",
        "**CAUTION**: Files that you save while using Colab are not retained after you close the notebook, as they only exist in Colab's temporary **session storage**. If you generate files and wish to keep them, make sure to download your files (with the same three dots menu) before you exit Colab.\n",
        "___"
      ]
    },
    {
      "cell_type": "markdown",
      "metadata": {
        "id": "9ST-WXNFsPoD"
      },
      "source": [
        "# [Optional] Cloning files from GitHub\n",
        "\n",
        "> This section was first introduced in the morning session on `numpy`. We've copy-pasted it here for convenience.\n",
        "\n",
        "[GitHub](https://github.com/) is a website that hosts code and files for software development projects. It serves two major functions: backing up **codebases** (files with data and code that work together) and enabling collaboration between programmers/developers.\n",
        "\n",
        "We (your staff team) use GitHub as a **repository** for files that are used during PyCamp. We do this so that we have a stable copy of these files that stays out of \"I spilled coffee on my laptop the night before PyCamp\", or \"my laptop was ransomed for cryptocurrency\" territory. Moreover, if we accidentally delete a file from the repository, GitHub's **version control**  allows us to roll back the repository to a working version. Neat, right?\n",
        "\n",
        "The below command allows us to **clone** these files from the GitHub repository to our local runtime's session storage. This allows for us to skip the messy steps of trying to get everyone to download and re-upload the right data.\n",
        "\n",
        "```\n",
        "!git clone https://github.com/ccbskillssem/pythonbootcamp.git\n",
        "```\n",
        "\n",
        "The `!` operator is used to indicate *special commands* that would normally be run at a computer's **command line**, rather than in Python. This is akin to communicating with a computer (or in Colab, our runtime) directly to tell it that we want to download files using the given file path.\n",
        "\n",
        "The GitHub file path that you see above points to a single file called a `.git` file. This file does not contain all the data: rather, it provides directions to the GitHub repository of interest, and therefore all the files it contains. In this manner, we never have to worry about giving all the file paths to each file we want: we just pull all the files in the repository by giving its `.git` file path."
      ]
    },
    {
      "cell_type": "markdown",
      "metadata": {
        "id": "vkHMnmrPUOlR"
      },
      "source": [
        "# [Optional] More methods for external data\n",
        "\n",
        "> This section was first introduced in yesterday's session on `numpy`. We've copy-pasted it here for convenience.\n",
        "\n",
        "This section describes the bare essentials of file uploads/downloads with Colab. For a more in-depth exploration, you can visit the official Google Colab notebook on data I/O [here](https://colab.research.google.com/notebooks/io.ipynb)."
      ]
    },
    {
      "cell_type": "markdown",
      "metadata": {
        "id": "0nFgc5EnUwZW"
      },
      "source": [
        "## Loading data from your computer\n",
        "You can use Colab's `Files` menu to upload data from your own computer to Colab's temporary **session storage**. Session storage is reset each time the notebook runtime ends or is otherwise reset.\n",
        "\n",
        "Go to the left hand panel of the Colab notebook and click on the folder icon at the bottom of the panel. This will bring you to Colab's `Files` menu.\n",
        "\n",
        "Click on the leftmost icon underneath the `'Files'` title of the panel: it should appear as a piece of paper with an up arrow on it. Follow the prompts to upload your data of choice. Once your file is uploaded, you can access the file path by hovering over the file name, clicking on the three-dot menu, then selecting `Copy path`.\n",
        "\n",
        "___\n",
        "\n",
        "**CAUTION**: Files that you upload are NOT retained in the `Files` panel after you close the notebook or reset the runtime. If you would prefer to avoid the upload process, consider the next section on loading data from Google Drive.\n",
        "\n",
        "___"
      ]
    },
    {
      "cell_type": "markdown",
      "metadata": {
        "id": "WIs4S8UeVl1p"
      },
      "source": [
        "## Loading data from Google Drive\n",
        "Google Drive is an excellent cloud storage solution for data you wish to work with in Colab. Colab provides a simple solution for allowing you to access files from Google Drive in Colab: all you have to do is access the `Files` menu by clicking the folder icon on the left hand panel of the Colab notebook.\n",
        "\n",
        "Once you're in the `Files` menu, click on the third icon below the `'Files'` title: it should appear as a filled-in white folder with the Google Drive icon. Click this button to connect Google Drive to Colab: a pop-up should appear asking you to confirm that you wish to do this, and you may need to wait a few minutes while Google Drive loads.\n",
        "\n",
        "Once your Drive is mounted, you should see a new folder called `drive` in the `Files` menu. You can access the file path by hovering over the file name, clicking on the three-dot menu, then selecting `Copy path`."
      ]
    }
  ],
  "metadata": {
    "colab": {
      "provenance": []
    },
    "kernelspec": {
      "display_name": "Python 3",
      "name": "python3"
    },
    "language_info": {
      "name": "python"
    }
  },
  "nbformat": 4,
  "nbformat_minor": 0
}
